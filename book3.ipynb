{
 "cells": [
  {
   "cell_type": "markdown",
   "metadata": {},
   "source": [
    "## Question 14"
   ]
  },
  {
   "cell_type": "code",
   "execution_count": null,
   "metadata": {},
   "outputs": [],
   "source": [
    "using LinearAlgebra\n",
    "\n",
    "function structured_P(L::Int; p::Float64 = 0.45, r::Float64 = 0.01)::Matrix{Float64}\n",
    "    q = 1 - p - r\n",
    "    P = diagm(fill(r,L)) + diagm(-1=>fill(q,L-1)) + diagm(1 => fill(p,L-1))\n",
    "    P[1,1] = 1-p\n",
    "    P[L,L] = 1-q\n",
    "    return P\n",
    "end\n",
    "\n",
    "structured_π(L::Int; p::Float64 = 0.45, r::Float64 = 0.01)::Vector{Float64} = begin\n",
    "    q = 1 - p - r\n",
    "    [(p/q)^i  for i in 1:L] * (q-p) / p / (1-(p/q)^L) #Explicit expression (birth death)\n",
    "end;\n",
    "\n",
    "P = structured_P(5)\n",
    "π = structured_π(5)\n",
    "@show sum(π)\n",
    "@show sum(π) ≈ 1\n",
    "π"
   ]
  },
  {
   "cell_type": "code",
   "execution_count": null,
   "metadata": {},
   "outputs": [],
   "source": [
    "function get_π_nullspace(P)\n",
    "    #we wish to solve the equation πP - π = 0\n",
    "    #i.e. we want the nullspace of (P-I)'\n",
    "    basis = nullspace((P-I)')\n",
    "    return basis/sum(basis)\n",
    "end\n",
    "\n",
    "get_π_nullspace(structured_P(5))"
   ]
  },
  {
   "cell_type": "code",
   "execution_count": null,
   "metadata": {},
   "outputs": [],
   "source": [
    "function get_π_limit(P,n=100)\n",
    "    return (P^n)[1,:]\n",
    "end\n",
    "\n",
    "get_π_limit(structured_P(5))"
   ]
  },
  {
   "cell_type": "code",
   "execution_count": null,
   "metadata": {},
   "outputs": [],
   "source": [
    "function get_π_eigen(P)\n",
    "    F = eigen(P')\n",
    "    π = F.vectors[:,end]\n",
    "    return π/sum(π)\n",
    "end\n",
    "\n",
    "get_π_eigen(structured_P(5))"
   ]
  },
  {
   "cell_type": "code",
   "execution_count": null,
   "metadata": {},
   "outputs": [],
   "source": [
    "using StatsBase\n",
    "\n",
    "function get_π_stats(P,sample_size=10^6)\n",
    "    n = length(P[1,:])\n",
    "    π = zeros(n)\n",
    "    x = 1\n",
    "    for i in 1:sample_size\n",
    "        x = wsample(1:n,P[x,:])\n",
    "        π[x] += 1\n",
    "    end\n",
    "    return π/sample_size\n",
    "end\n",
    "\n",
    "get_π_stats(structured_P(5))\n"
   ]
  },
  {
   "cell_type": "code",
   "execution_count": null,
   "metadata": {},
   "outputs": [],
   "source": [
    "using BenchmarkTools\n",
    "using StatsPlots\n",
    "function evaluate()\n",
    "    results = []\n",
    "    for n in [2,3,4,5,10,20,30,40,50,100,200,300,400,500,1000]\n",
    "        P = structured_P(n)\n",
    "        π = structured_π(n)\n",
    "        π1 = get_π_nullspace(P)\n",
    "        π2 = get_π_eigen(P)\n",
    "        π3 = get_π_limit(P,300)\n",
    "        π4 = get_π_stats(P)\n",
    "        results = push!(results,[norm(π-π1),norm(π-π2),norm(π-π3),norm(π-π4)])\n",
    "    end\n",
    "    return results\n",
    "end\n",
    "\n",
    "res = evaluate()\n",
    "x = [2,3,4,5,10,20,30,40,50,100,200,300,400,500,1000]\n",
    "data = collect(zip(res...))\n",
    "y = hcat(collect.(data)...)\n",
    "groupedbar(string.(x),y,yaxis=:log,xlabel=\"dimension\",ylabel=\"error\",label=hcat(\"nullspace\",\"eigen\",\"limit\",\"stats\"))\n",
    "png(\"markov_accuracy.png\")"
   ]
  },
  {
   "cell_type": "markdown",
   "metadata": {},
   "source": [
    "![](\"markov_accuracy.png\")\n",
    "\n",
    "In terms of accuracy, computing the eigenvector corresponding to eigenvalue 1 is the most consistently accurate for higher dimensions. Computing the nullspace is marginally better at lower dimensions, but performs worse with higher dimensions. Manually computing the limit is reasonable for low dimensions, but is not precise enough for higher dimensions, at least with only 300 iterations. Computing a random Markov chain has relatively consistent low accuracy, but this could be improved by increasing the number of samples (at the expense of compute time)."
   ]
  }
 ],
 "metadata": {
  "kernelspec": {
   "display_name": "Julia 1.7.3",
   "language": "julia",
   "name": "julia-1.7"
  },
  "language_info": {
   "file_extension": ".jl",
   "mimetype": "application/julia",
   "name": "julia",
   "version": "1.7.3"
  },
  "orig_nbformat": 4
 },
 "nbformat": 4,
 "nbformat_minor": 2
}
