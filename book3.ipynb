{
 "cells": [
  {
   "cell_type": "markdown",
   "metadata": {},
   "source": [
    "## Question 14"
   ]
  },
  {
   "cell_type": "code",
   "execution_count": null,
   "metadata": {},
   "outputs": [],
   "source": [
    "using LinearAlgebra\n",
    "\n",
    "function structured_P(L::Int; p::Float64 = 0.45, r::Float64 = 0.01)::Matrix{Float64}\n",
    "    q = 1 - p - r\n",
    "    P = diagm(fill(r,L)) + diagm(-1=>fill(q,L-1)) + diagm(1 => fill(p,L-1))\n",
    "    P[1,1] = 1-p\n",
    "    P[L,L] = 1-q\n",
    "    return P\n",
    "end\n",
    "\n",
    "structured_π(L::Int; p::Float64 = 0.45, r::Float64 = 0.01)::Vector{Float64} = begin\n",
    "    q = 1 - p - r\n",
    "    [(p/q)^i  for i in 1:L] * (q-p) / p / (1-(p/q)^L) #Explicit expression (birth death)\n",
    "end;\n",
    "\n",
    "P = structured_P(5)\n",
    "π = structured_π(5)\n",
    "@show sum(π)\n",
    "@show sum(π) ≈ 1\n",
    "π"
   ]
  },
  {
   "cell_type": "code",
   "execution_count": null,
   "metadata": {},
   "outputs": [],
   "source": [
    "function get_π_nullspace(P)\n",
    "    #we wish to solve the equation πP - π = 0\n",
    "    #i.e. we want the nullspace of (P-I)'\n",
    "    basis = nullspace((P-I)')\n",
    "    return basis/sum(basis)\n",
    "end\n",
    "\n",
    "get_π_nullspace(structured_P(5))"
   ]
  },
  {
   "cell_type": "code",
   "execution_count": null,
   "metadata": {},
   "outputs": [],
   "source": [
    "function get_π_limit(P,n=100)\n",
    "    return (P^n)[1,:]\n",
    "end\n",
    "\n",
    "get_π_limit(structured_P(5))"
   ]
  },
  {
   "cell_type": "code",
   "execution_count": null,
   "metadata": {},
   "outputs": [],
   "source": [
    "function get_π_eigen(P)\n",
    "    F = eigen(P')\n",
    "    π = F.vectors[:,end]\n",
    "    return π/sum(π)\n",
    "end\n",
    "\n",
    "get_π_eigen(structured_P(5))"
   ]
  },
  {
   "cell_type": "code",
   "execution_count": null,
   "metadata": {},
   "outputs": [],
   "source": [
    "using StatsBase\n",
    "\n",
    "function get_π_stats(P,sample_size=10^6)\n",
    "    n = length(P[1,:])\n",
    "    π = zeros(n)\n",
    "    x = 1\n",
    "    for i in 1:sample_size\n",
    "        x = wsample(1:n,P[x,:])\n",
    "        π[x] += 1\n",
    "    end\n",
    "    return π/sample_size\n",
    "end\n",
    "\n",
    "get_π_stats(structured_P(5))\n"
   ]
  },
  {
   "cell_type": "code",
   "execution_count": null,
   "metadata": {},
   "outputs": [],
   "source": [
    "using BenchmarkTools\n",
    "using StatsPlots\n",
    "function evaluate()\n",
    "    results = []\n",
    "    for n in [2,3,4,5,10,20,30,40,50,100,200,300,400,500,1000]\n",
    "        P = structured_P(n)\n",
    "        π = structured_π(n)\n",
    "        π1 = get_π_nullspace(P)\n",
    "        π2 = get_π_eigen(P)\n",
    "        π3 = get_π_limit(P,300)\n",
    "        π4 = get_π_stats(P)\n",
    "        results = push!(results,[norm(π-π1),norm(π-π2),norm(π-π3),norm(π-π4)])\n",
    "    end\n",
    "    return results\n",
    "end\n",
    "\n",
    "res = evaluate()\n",
    "x = [2,3,4,5,10,20,30,40,50,100,200,300,400,500,1000]\n",
    "data = collect(zip(res...))\n",
    "y = hcat(collect.(data)...)\n",
    "groupedbar(string.(x),y,yaxis=:log,xlabel=\"dimension\",ylabel=\"error\",label=hcat(\"nullspace\",\"eigen\",\"limit\",\"stats\"))\n",
    "png(\"markov_accuracy.png\")"
   ]
  },
  {
   "cell_type": "markdown",
   "metadata": {},
   "source": [
    "![](\"markov_accuracy.png\")\n",
    "\n",
    "In terms of accuracy, computing the eigenvector corresponding to eigenvalue 1 is the most consistently accurate for higher dimensions. Computing the nullspace is marginally better at lower dimensions, but performs worse with higher dimensions. Manually computing the limit is reasonable for low dimensions, but is not precise enough for higher dimensions, at least with only 300 iterations. Computing a random Markov chain has relatively consistent low accuracy, but this could be improved by increasing the number of samples (at the expense of compute time)."
   ]
  },
  {
   "cell_type": "markdown",
   "metadata": {},
   "source": [
    "## Question 15"
   ]
  },
  {
   "cell_type": "code",
   "execution_count": 1,
   "metadata": {},
   "outputs": [],
   "source": [
    "#These four convenience functions extract the state variable from the state vector\n",
    "#It is assumed the layout of the vector u is u = [v_x, v_y, x, y]\n",
    "state_v_x(u::Vector{Float64}) = u[1]\n",
    "state_v_y(u::Vector{Float64}) = u[2]\n",
    "state_x(u::Vector{Float64}) = u[3]\n",
    "state_y(u::Vector{Float64}) = u[4]\n",
    "\n",
    "\"\"\"\n",
    "Computes the RHS for the one body problem. \n",
    "\"\"\"\n",
    "function df_dt_one_body(u::Vector{Float64}, t::Float64)::Vector{Float64}\n",
    "    M, G = 1, 1 #We take these constants as normalized. Naturally they would need to be set for physical values.\n",
    "    r = sqrt(state_x(u)^2 + state_y(u)^2)\n",
    "    return [-M*G*state_x(u)/r^3, -M*G*state_y(u)/r^3, state_v_x(u), state_v_y(u)]\n",
    "end;"
   ]
  },
  {
   "cell_type": "code",
   "execution_count": 33,
   "metadata": {},
   "outputs": [],
   "source": [
    "using Plots, Measures\n",
    "\n",
    "function plot_trajectory( t::AbstractArray{T}, \n",
    "                        u::Vector{Vector{Float64}}; \n",
    "                        title::String = \"\",\n",
    "                        label::Union{String, Bool} = false) where T\n",
    "    x, y, v_x, v_y = state_x.(u), state_y.(u), state_v_x.(u), state_v_y.(u)\n",
    "\n",
    "    p1 = plot(  x, y, label = label, xlabel= \"X\", ylabel = \"Y\",\n",
    "                title = title*\" (position)\", aspectratio=1,legend=:topleft,ylim=(-7,7))\n",
    "    scatter!([0], [0], ms=15, msw=0, c=:orange, shape =:star, label=\"Sun\")\n",
    "    scatter!([x[1]], [y[1]], ms=5, msw=0, c=:blue, shape =:circle, label=\"Earth initial position\")\n",
    "end;"
   ]
  },
  {
   "cell_type": "markdown",
   "metadata": {},
   "source": [
    "## Question 15a"
   ]
  },
  {
   "cell_type": "code",
   "execution_count": 46,
   "metadata": {},
   "outputs": [],
   "source": [
    "function euler_trajectory(h = 0.001, u_0 = [0., 1, 1.5, 0], tmax = 200)::Vector{Vector{Float64}}\n",
    "    u = u_0\n",
    "    t = 0\n",
    "    trajectory = Vector{Vector{Float64}}(undef,ceil(Int,tmax/h)+1)\n",
    "    i=1\n",
    "    for t in 0:h:tmax\n",
    "        trajectory[i] = u\n",
    "        u = u + h*df_dt_one_body(u,t)\n",
    "        i+=1\n",
    "    end\n",
    "    return trajectory\n",
    "end\n",
    "\n",
    "function visualise(algorithm = euler_trajectory, title = \"Euler's method\", prefix = \"euler\")\n",
    "    energy_plot = plot()\n",
    "\n",
    "    for h in [0.01,0.001,0.0001]\n",
    "        t = 0:h:200\n",
    "        u = algorithm(h)\n",
    "        x, y, v_x, v_y = state_x.(u), state_y.(u), state_v_x.(u), state_v_y.(u)\n",
    "        #\"Energy\"\n",
    "        r = @. sqrt(x^2 + y^2)\n",
    "        E = @. 0.5*(v_x^2 + v_y^2) - 1.0/r\n",
    "        plot!(energy_plot,t,E,label=\"h = $(h)\")\n",
    "        plot_trajectory(0:h:200,u,title = \"$(title), h = $(h)\")\n",
    "        png(\"Q15_plots/$(prefix)_trajectory_h$(h).png\")\n",
    "    end\n",
    "\n",
    "    plot(energy_plot,legend=:topleft,xlabel=\"time\",ylabel=\"energy\")\n",
    "    png(\"Q15_plots/$(prefix)_energy.png\")\n",
    "end\n",
    "\n",
    "visualise()"
   ]
  },
  {
   "cell_type": "markdown",
   "metadata": {},
   "source": [
    "![\"h=0.01\"](Q15_plots/euler_trajectory_h0.01.png)\n",
    "![\"h=0.001\"](Q15_plots/euler_trajectory_h0.001.png)\n",
    "![\"h=0.001\"](Q15_plots/euler_trajectory_h0.0001.png)\n",
    "![\"Energies\"](Q15_plots/euler_energy.png)"
   ]
  },
  {
   "cell_type": "markdown",
   "metadata": {},
   "source": [
    "## Question 15b"
   ]
  },
  {
   "cell_type": "code",
   "execution_count": 47,
   "metadata": {},
   "outputs": [],
   "source": [
    "function RK4_trajectory(h = 0.001, u_0 = [0., 1, 1.5, 0], tmax = 200)::Vector{Vector{Float64}}\n",
    "    u = u_0\n",
    "    t = 0\n",
    "    trajectory = Vector{Vector{Float64}}(undef,ceil(Int,tmax/h)+1)\n",
    "    i=1\n",
    "    for t in 0:h:tmax\n",
    "        trajectory[i] = u\n",
    "        k1 = df_dt_one_body(u,t)\n",
    "        k2 = df_dt_one_body(u + h*k1/2,t + h/2)\n",
    "        k3 = df_dt_one_body(u + h*k2/2,t + h/2)\n",
    "        k4 = df_dt_one_body(u + h*k3,t + h)\n",
    "        u = u + h*(k1 + 2*k2 + 2*k3 + k4)/6\n",
    "        i+=1\n",
    "    end\n",
    "    return trajectory\n",
    "end\n",
    "\n",
    "visualise(RK4_trajectory, \"Runge-Kutta 4th order\", \"rk4\")"
   ]
  },
  {
   "cell_type": "markdown",
   "metadata": {},
   "source": [
    "![\"h=0.01\"](Q15_plots/rk4_trajectory_h0.01.png)\n",
    "![\"h=0.001\"](Q15_plots/rk4_trajectory_h0.001.png)\n",
    "![\"h=0.001\"](Q15_plots/rk4_trajectory_h0.0001.png)\n",
    "![\"Energies\"](Q15_plots/rk4_energy.png)"
   ]
  },
  {
   "cell_type": "markdown",
   "metadata": {},
   "source": [
    "## Question 15c\n",
    "\n",
    "The fourth order Runge-Kutta method is more computationally intensive, due to requiring 4 computations of the derivative at each timestep. However, this results in a difference of only a few seconds in computation time, and the RK4 method is far more accurate. The RK4 method has almost perfect conservation of energy for $h=0.001$ and $h=0.0001$, and even at $h=0.01$, RK4 performs better than Euler's method with $h=0.001$. This more than makes up for the extra overhead involved with each timestep."
   ]
  },
  {
   "cell_type": "markdown",
   "metadata": {},
   "source": [
    "## Question 15d\n",
    "\n",
    "![\"orbit animation\"](Q15_plots/orbits.gif)"
   ]
  },
  {
   "cell_type": "code",
   "execution_count": null,
   "metadata": {},
   "outputs": [],
   "source": [
    "using Plots\n",
    "\n",
    "function animate_trajectory()\n",
    "    worst = euler_trajectory(0.01)\n",
    "    best = RK4_trajectory(0.0001)\n",
    "    x1 = state_x.(worst)\n",
    "    y1 = state_y.(worst)\n",
    "    x2 = state_x.(best)\n",
    "    y2 = state_y.(best)\n",
    "\n",
    "    anim = @animate for t in 0:0.5:200\n",
    "        i = Int(t*100)\n",
    "        plot([x1[1:i+1],x2[1:100:i*100+1]],[y1[1:i+1],y2[1:100:i*100+1]],ylim=(-7,7),xlim=(-8,6),label=hcat(\"Euler\",\"RK4\"))\n",
    "        scatter!([0], [0], ms=15, msw=0, c=:orange, shape =:star, label=\"Sun\")\n",
    "        scatter!([x1[i+1]], [y1[i+1]],ms=5, msw=0, c=:blue, shape =:circle, label=\"Earth (Euler)\")\n",
    "        scatter!([x2[i*100+1]], [y2[i*100+1]],ms=5, msw=0, c=:orange, shape =:circle, label=\"Earth (RK4)\")\n",
    "    end\n",
    "\n",
    "    gif(anim, \"Q15_plots/orbits.gif\", fps = 30)\n",
    "end\n",
    "\n",
    "animate_trajectory()"
   ]
  }
 ],
 "metadata": {
  "kernelspec": {
   "display_name": "Julia 1.7.3",
   "language": "julia",
   "name": "julia-1.7"
  },
  "language_info": {
   "file_extension": ".jl",
   "mimetype": "application/julia",
   "name": "julia",
   "version": "1.7.3"
  },
  "orig_nbformat": 4
 },
 "nbformat": 4,
 "nbformat_minor": 2
}
