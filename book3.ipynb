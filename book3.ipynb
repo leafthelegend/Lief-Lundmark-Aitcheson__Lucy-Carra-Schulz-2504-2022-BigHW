{
 "cells": [
  {
   "cell_type": "markdown",
   "metadata": {},
   "source": [
    "## Question 14"
   ]
  },
  {
   "cell_type": "code",
   "execution_count": 25,
   "metadata": {},
   "outputs": [
    {
     "name": "stdout",
     "output_type": "stream",
     "text": [
      "sum(π) = 0.9999999999999996\n",
      "sum(π) ≈ 1 = true\n"
     ]
    },
    {
     "data": {
      "text/plain": [
       "5-element Vector{Float64}:\n",
       " 0.2786497527413459\n",
       " 0.2322081272844549\n",
       " 0.1935067727370457\n",
       " 0.16125564394753808\n",
       " 0.13437970328961507"
      ]
     },
     "execution_count": 25,
     "metadata": {},
     "output_type": "execute_result"
    }
   ],
   "source": [
    "using LinearAlgebra\n",
    "\n",
    "function structured_P(L::Int; p::Float64 = 0.45, r::Float64 = 0.01)::Matrix{Float64}\n",
    "    q = 1 - p - r\n",
    "    P = diagm(fill(r,L)) + diagm(-1=>fill(q,L-1)) + diagm(1 => fill(p,L-1))\n",
    "    P[1,1] = 1-p\n",
    "    P[L,L] = 1-q\n",
    "    return P\n",
    "end\n",
    "\n",
    "structured_π(L::Int; p::Float64 = 0.45, r::Float64 = 0.01)::Vector{Float64} = begin\n",
    "    q = 1 - p - r\n",
    "    [(p/q)^i  for i in 1:L] * (q-p) / p / (1-(p/q)^L) #Explicit expression (birth death)\n",
    "end;\n",
    "\n",
    "P = structured_P(5)\n",
    "π = structured_π(5)\n",
    "@show sum(π)\n",
    "@show sum(π) ≈ 1\n",
    "π"
   ]
  },
  {
   "cell_type": "code",
   "execution_count": null,
   "metadata": {},
   "outputs": [],
   "source": [
    "function get_π_nullspace(P)\n",
    "    #we wish to solve the equation πP - π = 0\n",
    "    #i.e. we want the nullspace of (P-I)'\n",
    "    basis = nullspace((P-I)')\n",
    "    return basis/sum(basis)\n",
    "end\n",
    "\n",
    "get_π_nullspace(structured_P(5))"
   ]
  },
  {
   "cell_type": "code",
   "execution_count": null,
   "metadata": {},
   "outputs": [],
   "source": [
    "function get_π_limit(P,n=100)\n",
    "    return (P^n)[1,:]\n",
    "end\n",
    "\n",
    "get_π_limit(structured_P(5))"
   ]
  },
  {
   "cell_type": "code",
   "execution_count": null,
   "metadata": {},
   "outputs": [],
   "source": [
    "function get_π_eigen(P)\n",
    "    F = eigen(P')\n",
    "    π = F.vectors[:,end]\n",
    "    return π/sum(π)\n",
    "end\n",
    "\n",
    "get_π_eigen(structured_P(5))"
   ]
  },
  {
   "cell_type": "code",
   "execution_count": 41,
   "metadata": {},
   "outputs": [
    {
     "data": {
      "text/plain": [
       "5-element Vector{Float64}:\n",
       " 0.27872348\n",
       " 0.23228161\n",
       " 0.1935445\n",
       " 0.16118614\n",
       " 0.13426427"
      ]
     },
     "execution_count": 41,
     "metadata": {},
     "output_type": "execute_result"
    }
   ],
   "source": [
    "using StatsBase\n",
    "\n",
    "function get_π_stats(P,sample_size=10^8)\n",
    "    n = length(P[1,:])\n",
    "    π = zeros(n)\n",
    "    x = 1\n",
    "    for i in 1:sample_size\n",
    "        x = wsample(1:n,P[x,:])\n",
    "        π[x] += 1\n",
    "    end\n",
    "    return π/sample_size\n",
    "end\n",
    "\n",
    "get_π_stats(structured_P(5))\n"
   ]
  }
 ],
 "metadata": {
  "kernelspec": {
   "display_name": "Julia 1.7.3",
   "language": "julia",
   "name": "julia-1.7"
  },
  "language_info": {
   "file_extension": ".jl",
   "mimetype": "application/julia",
   "name": "julia",
   "version": "1.7.3"
  },
  "orig_nbformat": 4
 },
 "nbformat": 4,
 "nbformat_minor": 2
}
