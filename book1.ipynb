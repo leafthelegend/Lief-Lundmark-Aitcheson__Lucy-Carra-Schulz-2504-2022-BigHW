{
 "cells": [
  {
   "cell_type": "markdown",
   "id": "902e76ba",
   "metadata": {
    "vscode": {
     "languageId": "latex"
    }
   },
   "source": [
    "## Question 1a\n",
    "\n",
    "$1+\\frac{1}{1+\\frac{1}{1+\\frac{1}{1+\\frac{1}{1+\\frac{1}{1+⋱}}}}}$"
   ]
  },
  {
   "cell_type": "markdown",
   "id": "1ee6d1b4",
   "metadata": {},
   "source": [
    "## Question 1b\n",
    "1. [book](book.com)\n",
    "2. book\n",
    "3. book\n",
    "4. book\n",
    "5. book"
   ]
  },
  {
   "cell_type": "markdown",
   "id": "90a841f1",
   "metadata": {},
   "source": [
    "## Question 1c\n",
    "<img href = \"\"></img>"
   ]
  },
  {
   "cell_type": "markdown",
   "id": "90ff6e64",
   "metadata": {},
   "source": [
    "## Question 1d"
   ]
  },
  {
   "cell_type": "markdown",
   "id": "e3aa9094",
   "metadata": {},
   "source": [
    "## Question 2a"
   ]
  },
  {
   "cell_type": "code",
   "execution_count": 43,
   "id": "4f237f46",
   "metadata": {},
   "outputs": [
    {
     "data": {
      "text/plain": [
       "\"Error - this is not a quadratic equation\""
      ]
     },
     "execution_count": 43,
     "metadata": {},
     "output_type": "execute_result"
    }
   ],
   "source": [
    "function real_roots_of_quadratic(a::Number, b::Number, c::Number)\n",
    "    if a == 0\n",
    "        return \"Error - this is not a quadratic equation\"\n",
    "    end\n",
    "    #Start by initializing an empty array\n",
    "    roots::Array{Float64} = []\n",
    "\n",
    "    #Compute the discriminant \n",
    "    Δ = b^2 - 4a*c #\\Delta + [TAB]\n",
    "\n",
    "    #Based on the sign of the discriminant return 0, 1, or 2 roots.\n",
    "    if Δ < 0 \n",
    "        roots = []\n",
    "    elseif Δ == 0\n",
    "        roots = [-b/(2a)]\n",
    "    else\n",
    "        roots = (-b .+ [√Δ,-√Δ])/(2a)\n",
    "    end\n",
    "    roots \n",
    "end\n",
    "\n",
    "#Attempting on -x²+5x-6=0\n",
    "real_roots_of_quadratic(0.0,5,-6)"
   ]
  },
  {
   "cell_type": "markdown",
   "id": "ad458d37",
   "metadata": {},
   "source": [
    "1. Since Julia is dynamically typed, the type specifications are not necessary and the function will work without them. However, it is often useful to add type annotations for readability and debugging purposes. Specifying types can also be useful if we want to use multiple dispatch to run different methods depending on the type of the parameters specified to a function.\n",
    "2. `4a*c` is allowed because in Julia variable names cannot start with a number, so Julia recognises the implicit multiplication. However, we cannot write `4ac` because then Julia will try and find a variable named `ac`.\n",
    "3. If we made a typo and wrote `Δ = 0` instead of `Δ == 0`, then Julia throws a syntax error. However, if we were to put brackets around the condition: `elseif (Δ = 0)`, then the code will run without a syntax error. This is because in this case, Julia treats the assignment as an expression. The expression `Δ = 0` returns the right hand side, `0`. In another language this could lead to a nasty bug because the if statement would never be run, but in Julia conditions must have boolean type, so we would then see a `TypeError`.\n",
    "4. We can indeed write `(-b + [√Δ,-√Δ])/(2a)`, using the dot operator. If we try the same thing without a dot, then Julia will throw an error, because we cannot add a number to an array. The dot operator applies a function to each element in an array, in this case adding `-b`.\n",
    "5. The function will still work without the implicit return statement, since by default functions return the value of the last evaluated expression.\n",
    "6. We cannot use the function with `a = 0.0`, since we will then end up dividing by zero. This will not throw an error, but it means the roots will either be `NaN` or `Inf`, which is clearly not the intended behaviour.\n",
    "7. At the start of the function we can check if `a==0`, and return a string explaining the error if the function is not quadratic. This is a slightly messy solution.\n",
    "8. We can shorten the exact same code to\n",
    "    `a == 0 && return \"Error - this is not a quadratic equation\"`. This works because Julia has short-circuit evaluation for the and operator. If the first argument is false, then the entire and statement will be false and there is no need to evaluate the other side. If a is 0, then the first expression is true, so Julia needs to check the second expression, which returns the error message.\n",
    "9. Instead of returning a string, which could lead to problems down the line when using this function, we can explicitly throw an exception with a custom error message: `a == 0 && throw(DomainError(a, \"argument must be nonzero\"))`. In this case, the most appropriate type of error is a `DomainError`.\n",
    "\n"
   ]
  },
  {
   "cell_type": "markdown",
   "id": "b2e6626e",
   "metadata": {},
   "source": [
    "## Question 2b"
   ]
  },
  {
   "cell_type": "code",
   "execution_count": 35,
   "id": "fe7517e3",
   "metadata": {},
   "outputs": [
    {
     "name": "stdout",
     "output_type": "stream",
     "text": [
      "The equation x² + -5x + 6 = 0 has the real roots 3.0 and 2.0\n",
      "The equation x² + 2x + 3 = 0 has no real roots.\n",
      "The equation x² + 7x + 0 = 0 has the real roots 0.0 and -7.0\n",
      "The equation -2x² + 10x + 12 = 0 has the real roots -1.0 and 6.0\n",
      "The equation -x² + -4x + 5 = 0 has the real roots -5.0 and 1.0\n"
     ]
    }
   ],
   "source": [
    "function print_quadratic_roots(coefficients, roots)\n",
    "    a,b,c = coefficients\n",
    "    print(\"The equation $(abs(a) == 1 ? a == 1 ? \"\" : \"-\" : a)x² + $(abs(b) == 1 ? b == 1 ? \"\" : \"-\" : b)x + $(c) = 0 \") \n",
    "    if length(roots) == 0\n",
    "        println(\"has no real roots.\")\n",
    "    elseif length(roots) == 1\n",
    "        println(\"has the single (real) root $(roots[1])\")\n",
    "    else\n",
    "        println(\"has the real roots $(roots[1]) and $(roots[2])\")\n",
    "    end\n",
    "    return nothing\n",
    "end\n",
    "\n",
    "examples = [[1,-5,6], [1,2,3],[1,7,0],[-2,10,12],[-1,-4,+5]]\n",
    "\n",
    "for example in examples\n",
    "    roots = real_roots_of_quadratic(example...)\n",
    "    print_quadratic_roots(example, roots)\n",
    "end"
   ]
  },
  {
   "cell_type": "markdown",
   "id": "872281bb",
   "metadata": {},
   "source": [
    "1. See the examples in the code\n",
    "2. See code\n",
    "3. See code"
   ]
  },
  {
   "cell_type": "markdown",
   "id": "b40a7aa0",
   "metadata": {},
   "source": [
    "## Question 2c"
   ]
  },
  {
   "cell_type": "code",
   "execution_count": 44,
   "id": "092fde0c",
   "metadata": {},
   "outputs": [
    {
     "name": "stdout",
     "output_type": "stream",
     "text": [
      "Test passed\n"
     ]
    }
   ],
   "source": [
    "using Random\n",
    "\"\"\"\n",
    "This function generates `num_tests` random triples of coefficients and checks that the function `real_roots_of_quadratic()` does its job. The return value is `true` if the test passed, otherwise it is `false`.\n",
    "\"\"\"\n",
    "function test_real_roots_of_quadratic(;num_tests = 10000, seed=42, coeff_min = -1000, coeff_max = 1000)\n",
    "    Random.seed!(seed)\n",
    "    test_passed = true\n",
    "    for _ in 1:num_tests\n",
    "        a, b, c = coeff_min .+ (coeff_max-coeff_min)*rand(3) #uniform values in the range [coeff_min, coeff_max]\n",
    "        roots = real_roots_of_quadratic(a,b,c)\n",
    "        for x in roots\n",
    "            err = a*x^2 + b*x + c \n",
    "            test_passed = (test_passed && isapprox(err, 0.0, atol = 1e-8)) \n",
    "        end\n",
    "    end\n",
    "    return test_passed\n",
    "end\n",
    "\n",
    "test_real_roots_of_quadratic() ? println(\"Test passed\") : println(\"Test failed\")"
   ]
  },
  {
   "cell_type": "markdown",
   "id": "3f1c8b8f",
   "metadata": {},
   "source": [
    "1. Yes, test still passes\n",
    "2. See above code\n",
    "3. If there are no real roots, then the inner for loop will not execute\n",
    "4. We can add the line `return []` at the top of `real_roots_of_quadratic`, which will mean it always returns an empty array. This means the inner for loop in the testing function will never execute, and the test will pass even though the function is broken.\n",
    "\n"
   ]
  },
  {
   "cell_type": "code",
   "execution_count": 55,
   "id": "24912f99",
   "metadata": {},
   "outputs": [
    {
     "name": "stdout",
     "output_type": "stream",
     "text": [
      "Test passed\n"
     ]
    }
   ],
   "source": [
    "using Random\n",
    "function test_from_roots(;num_tests = 10000, seed=42, coeff_min = -1000, coeff_max = 1000)\n",
    "    Random.seed!(seed)\n",
    "    test_passed = true\n",
    "    for _ in 1:num_tests\n",
    "        num_roots = 1\n",
    "        # num_roots = rand([0,1,2])\n",
    "        roots = rand(num_roots)*(coeff_max-coeff_min) .+ coeff_min\n",
    "        #sort the array so that it doesn't matter what order the function we're testing returns the roots in\n",
    "        roots = sort(roots)\n",
    "        a,b,c = 1,1,1\n",
    "        if num_roots == 0\n",
    "            a, b, c = rand([(1,0,1),(3,3,3),(-3,-2,-1)]) #pick one of a few hard-coded sets of values\n",
    "        elseif num_roots == 1\n",
    "            b = -2*roots[1]\n",
    "            c = roots[1]^2\n",
    "        else\n",
    "            b = -roots[1] - roots[2]\n",
    "            c = roots[1]*roots[2]\n",
    "        end\n",
    "        test_roots = sort(real_roots_of_quadratic(a,b,c))\n",
    "        #check if the function got the number of roots and the value of the roots right.\n",
    "        test_passed = length(test_roots) == length(roots) && all(isapprox.(test_roots,roots,atol = 1e-8)) && test_passed\n",
    "    end\n",
    "    return test_passed\n",
    "end\n",
    "\n",
    "test_from_roots() ? println(\"Test passed\") : println(\"Test failed\")"
   ]
  },
  {
   "cell_type": "markdown",
   "id": "48b4ce8e",
   "metadata": {},
   "source": [
    "## Question 2d"
   ]
  },
  {
   "cell_type": "code",
   "execution_count": 70,
   "id": "b4a12dff",
   "metadata": {},
   "outputs": [
    {
     "data": {
      "text/plain": [
       "2-element Vector{Float64}:\n",
       " -1.0\n",
       "  3.0"
      ]
     },
     "execution_count": 70,
     "metadata": {},
     "output_type": "execute_result"
    }
   ],
   "source": [
    "function roots_of_quadratic(a::Number, b::Number, c::Number)\n",
    "    roots::Array{ComplexF64} = []\n",
    "    Δ = b^2 - 4a*c\n",
    "    roots = [-b + √Complex(Δ), -b - √Complex(Δ)] / (2a)\n",
    "    return unique([(true ? real(r) : r) for r in roots]) #dedupe and simplify roots\n",
    "end\n",
    "\n",
    "roots_of_quadratic(-1,2,3)"
   ]
  },
  {
   "cell_type": "markdown",
   "id": "4612b80a",
   "metadata": {},
   "source": [
    "## Question 3"
   ]
  },
  {
   "cell_type": "code",
   "execution_count": 71,
   "id": "30d6226b",
   "metadata": {},
   "outputs": [
    {
     "data": {
      "text/plain": [
       "hail_stone_sequence (generic function with 2 methods)"
      ]
     },
     "execution_count": 71,
     "metadata": {},
     "output_type": "execute_result"
    }
   ],
   "source": [
    "function hail_stone_sequence(x::Int, verbose::Bool = false)\n",
    "    while x != 1\n",
    "        x = ((x % 2 == 0) ? (x ÷ 2) : (3x + 1)) #\\div + [TAB] for ÷ \n",
    "        verbose && println(\"x = $x\")\n",
    "    end\n",
    "    return nothing\n",
    "end"
   ]
  },
  {
   "cell_type": "markdown",
   "id": "94e06106",
   "metadata": {},
   "source": [
    "## Question 3a\n",
    "\n",
    "1. The expression `((x % 2 == 0) ? (x ÷ 2) : (3x + 1))` first checks if the remainder is 0 when `x` is divided by 2. i.e. whether `x` is even or not. If so, the expression will return `x ÷ 2` - otherwise (if `x` is odd) it returns `3x + 1`\n",
    "2. We first define a function $f(n)$ which takes a natural number input $n$. If $n$ is even, then the output is $\\frac{n}{2}$. Otherwise the output is $3n+1$. Consider starting with some natural number $m$ and repeatedly applying the function. It is conjecctured that for every choice of $m$, repeatedly applying $f$ will eventually reach an output of 1.\n",
    "3. See code below (it terminates, so no counterexample)\n"
   ]
  },
  {
   "cell_type": "code",
   "execution_count": 2,
   "id": "8e116732",
   "metadata": {},
   "outputs": [
    {
     "ename": "UndefVarError",
     "evalue": "UndefVarError: hail_stone_sequence not defined",
     "output_type": "error",
     "traceback": [
      "UndefVarError: hail_stone_sequence not defined\n",
      "\n",
      "Stacktrace:\n",
      " [1] top-level scope\n",
      "   @ ~/Desktop/Uni/Maths/MATH2504/Julia/BigHW/book1.ipynb:2"
     ]
    }
   ],
   "source": [
    "for n in 1:10^8\n",
    "    hail_stone_sequence(n)\n",
    "end"
   ]
  },
  {
   "cell_type": "markdown",
   "id": "1047b32e",
   "metadata": {},
   "source": [
    "## Question 3c\n",
    "\n",
    "The given code is inefficient, because the call to `hail_max` involves calculating `hail_length` for all numbers up to `N`. This means that `hail_length` is run multiple times for most numbers, which takes a long time. We can change the code to only calculate `hail_length` once for each number, and store the results in a vector. We can make a further improvement by short-circuiting the calculations if the algorithm reaches a number it has already calculated the sequence for.\n",
    "\n",
    "The resulting plot up to $10^7$ looks like:\n",
    "![](plot.png)\n",
    "\n",
    "The line appears to curve slightly upwards, indicating that the maximum number of steps grows slightly faster than logarithmically. Another interesting feature is that the function does not grow smoothly - there are abrupt leaps where a particular number takes far longer to reach 1 than any number before it."
   ]
  },
  {
   "cell_type": "code",
   "execution_count": null,
   "id": "cf38c9d6",
   "metadata": {},
   "outputs": [],
   "source": [
    "using Plots\n",
    "function hail_length(x::Int, lengths)\n",
    "    init = x\n",
    "    n = 0\n",
    "    while x != 1\n",
    "        x = ((x % 2 == 0) ? (x ÷ 2) : (3x + 1))\n",
    "        n += 1\n",
    "        if x < init #if we have already done these calculations\n",
    "            n += lengths[x] #look up the remaining length in the list\n",
    "            break\n",
    "        end\n",
    "    end\n",
    "    return n\n",
    "end\n",
    "\n",
    "step_range = 1:10^7\n",
    "#initialise empty vector lengths\n",
    "lengths = Array{Int64}(undef, length(step_range))\n",
    "for i in step_range\n",
    "    lengths[i] = hail_length(i, lengths)\n",
    "end\n",
    "\n",
    "max_vals = accumulate(max,lengths)\n",
    "\n",
    "plot(step_range, max_vals, xaxis=:log, \n",
    "    label=false, xlabel=\"Maximal initial value\", ylabel=\"Maximal number of steps\")\n",
    "\n",
    "# png(\"plot.png\") #for some reason it doesn't render properly as an svg"
   ]
  },
  {
   "cell_type": "markdown",
   "id": "8be0f486",
   "metadata": {},
   "source": [
    "## Question 4a\n",
    "\n",
    "The `random_binary_string` function looks like:\n",
    "\n",
    " `random_binary_string(n = 12) = *([rand(['0','1']) for _ in 1:n]...)`\n",
    "\n",
    "`rand(['0','1'])` will pick a random character, either `'0'` or `'1'`.\n",
    "\n",
    "We then wrap this in a list comprehension to generate `n` such random numbers: `[rand(['0','1']) for _ in 1:n]`\n",
    "\n",
    "We then unpack the list using the splatting operator `...`, and concatenate all the strings with the concatenation function `*`. The asterisk could equivalently be replaced with a call to `string`.\n",
    "\n",
    "The `random_hex_string` function follows a similar approach, escept here the set of characters to choose from is slightly more complex. We want all the characters from 0 to 9, and all the characters from A to F. We can construct this set using the `union` function:\n",
    "\n",
    "`rand(union('0':'9','A':'F'))`\n",
    "\n",
    "The above expression therefore picks a random character from the set of hexadecimal symbols. As above, we choose `n` such symbols, and then concatenate them."
   ]
  },
  {
   "cell_type": "markdown",
   "id": "29b43e18",
   "metadata": {},
   "source": [
    "## Question 4b\n",
    "\n",
    "By default `random_binary_string` gives a binary number of length 12 bits. This has a maximum decimal value of $2^12-1 = 4095$ Assuming that our random numbers are uniformly distributed, the expected value is $4095/2 = 2047.5$. Summing over 1000 such values we would expect to see a final sum of around 2047500.\n",
    "\n",
    "Similarly, `random_hex_string` defaults to a 3-digit hexadecimal number. This has a maximum possible value of $16^3-1 = 4095$, so the expected sum is the same as above."
   ]
  },
  {
   "cell_type": "code",
   "execution_count": 3,
   "id": "79dd77fa",
   "metadata": {},
   "outputs": [
    {
     "data": {
      "text/plain": [
       "(2001912, 2078359)"
      ]
     },
     "execution_count": 3,
     "metadata": {},
     "output_type": "execute_result"
    }
   ],
   "source": [
    "using Random\n",
    "random_binary_string(n = 12) = *([rand(['0','1']) for _ in 1:n]...)\n",
    "random_hex_string(n=3) = *([rand(union('0':'9','A':'F')) for _ in 1:n]...)\n",
    "\n",
    "\n",
    "Random.seed!(0)\n",
    "r_bin_strs = [random_binary_string() for _ in 1:10^3]\n",
    "r_hex_strs = [random_hex_string() for _ in 1:10^3];\n",
    "\n",
    "bin_nums = parse.(Int,r_bin_strs,base = 2)\n",
    "hex_nums = parse.(Int,r_hex_strs,base = 16)\n",
    "\n",
    "sum(bin_nums),sum(hex_nums)"
   ]
  },
  {
   "cell_type": "markdown",
   "id": "66e9f76e",
   "metadata": {},
   "source": [
    "## Question 4c\n",
    "\n",
    "The following custom implementations achieve the same result"
   ]
  },
  {
   "cell_type": "code",
   "execution_count": 19,
   "id": "eb63ab4b",
   "metadata": {},
   "outputs": [
    {
     "data": {
      "text/plain": [
       "(2001912, 2078359)"
      ]
     },
     "execution_count": 19,
     "metadata": {},
     "output_type": "execute_result"
    }
   ],
   "source": [
    "function bin2dec(bin_str)\n",
    "    sum = 0\n",
    "    for (i,char) in enumerate(reverse(bin_str))\n",
    "        sum += (char == '0') ? 0 : 2^(i-1)\n",
    "    end\n",
    "    return sum\n",
    "end\n",
    "\n",
    "function hex2dec(hex_str)\n",
    "    key = union('0':'9','A':'F')\n",
    "    sum = 0\n",
    "    for (i,char) in enumerate(reverse(hex_str))\n",
    "        sum += (indexin(char,key)[1]-1) * 16^(i-1)\n",
    "    end\n",
    "    return sum\n",
    "end\n",
    "\n",
    "new_bin_nums = bin2dec.(r_bin_strs)\n",
    "new_hex_nums = hex2dec.(r_hex_strs)\n",
    "\n",
    "sum(new_bin_nums),sum(new_hex_nums)"
   ]
  }
 ],
 "metadata": {
  "kernelspec": {
   "display_name": "Julia 1.7.3",
   "language": "julia",
   "name": "julia-1.7"
  },
  "language_info": {
   "file_extension": ".jl",
   "mimetype": "application/julia",
   "name": "julia",
   "version": "1.7.3"
  },
  "vscode": {
   "interpreter": {
    "hash": "b0fa6594d8f4cbf19f97940f81e996739fb7646882a419484c72d19e05852a7e"
   }
  }
 },
 "nbformat": 4,
 "nbformat_minor": 5
}
