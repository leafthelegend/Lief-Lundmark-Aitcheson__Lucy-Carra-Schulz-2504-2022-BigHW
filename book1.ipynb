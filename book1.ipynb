{
 "cells": [
  {
   "cell_type": "markdown",
   "id": "902e76ba",
   "metadata": {
    "vscode": {
     "languageId": "latex"
    }
   },
   "source": [
    "## Question 1a\n",
    "\n",
    "$1+\\frac{1}{1+\\frac{1}{1+\\frac{1}{1+\\frac{1}{1+\\frac{1}{1+⋱}}}}}$"
   ]
  },
  {
   "cell_type": "markdown",
   "id": "1ee6d1b4",
   "metadata": {},
   "source": [
    "## Question 1b\n",
    "1. [book](book.com)\n",
    "2. book\n",
    "3. book\n",
    "4. book\n",
    "5. book"
   ]
  },
  {
   "cell_type": "markdown",
   "id": "90a841f1",
   "metadata": {},
   "source": [
    "## Question 1c\n",
    "<img href = \"\"></img>"
   ]
  },
  {
   "cell_type": "markdown",
   "id": "90ff6e64",
   "metadata": {},
   "source": [
    "## Question 1d"
   ]
  },
  {
   "cell_type": "markdown",
   "id": "e3aa9094",
   "metadata": {},
   "source": [
    "## Question 2a"
   ]
  },
  {
   "cell_type": "code",
   "execution_count": 8,
   "id": "4f237f46",
   "metadata": {},
   "outputs": [
    {
     "data": {
      "text/plain": [
       "2-element Vector{Float64}:\n",
       " 2.0\n",
       " 3.0"
      ]
     },
     "metadata": {},
     "output_type": "display_data"
    }
   ],
   "source": [
    "function get_roots(a,b,c)\n",
    "    d::Float64 = b^2 - 4*a*c\n",
    "    if d < 0\n",
    "        return []\n",
    "    elseif d == 0\n",
    "        return [-b/(2*a)]\n",
    "    else\n",
    "        return [(-b+sqrt(d))/(2*a), (-b-sqrt(d))/(2*a)]\n",
    "    end\n",
    "end\n",
    "\n",
    "get_roots(-1,5,-6)"
   ]
  },
  {
   "cell_type": "markdown",
   "id": "b2e6626e",
   "metadata": {},
   "source": []
  }
 ],
 "metadata": {
  "kernelspec": {
   "display_name": "Julia 1.7.3",
   "language": "julia",
   "name": "julia-1.7"
  },
  "language_info": {
   "file_extension": ".jl",
   "mimetype": "application/julia",
   "name": "julia",
   "version": "1.7.3"
  },
  "vscode": {
   "interpreter": {
    "hash": "b0fa6594d8f4cbf19f97940f81e996739fb7646882a419484c72d19e05852a7e"
   }
  }
 },
 "nbformat": 4,
 "nbformat_minor": 5
}
