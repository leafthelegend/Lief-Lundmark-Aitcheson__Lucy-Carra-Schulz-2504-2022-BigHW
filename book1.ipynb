{
 "cells": [
  {
   "cell_type": "markdown",
   "id": "902e76ba",
   "metadata": {
    "vscode": {
     "languageId": "latex"
    }
   },
   "source": [
    "## Question 1a\n",
    "\n",
    "$1+\\frac{1}{1+\\frac{1}{1+\\frac{1}{1+\\frac{1}{1+\\frac{1}{1+⋱}}}}}$"
   ]
  },
  {
   "cell_type": "markdown",
   "id": "1ee6d1b4",
   "metadata": {},
   "source": [
    "## Question 1b\n",
    "1. [book](book.com)\n",
    "2. book\n",
    "3. book\n",
    "4. book\n",
    "5. book"
   ]
  },
  {
   "cell_type": "markdown",
   "id": "90a841f1",
   "metadata": {},
   "source": [
    "## Question 1c\n",
    "<img href = \"\"></img>"
   ]
  },
  {
   "cell_type": "markdown",
   "id": "90ff6e64",
   "metadata": {},
   "source": [
    "## Question 1d"
   ]
  },
  {
   "cell_type": "markdown",
   "id": "e3aa9094",
   "metadata": {},
   "source": [
    "## Question 2a"
   ]
  },
  {
   "cell_type": "code",
   "execution_count": 13,
   "id": "4f237f46",
   "metadata": {},
   "outputs": [
    {
     "data": {
      "text/plain": [
       "\"Error - this is not a quadratic equation\""
      ]
     },
     "execution_count": 13,
     "metadata": {},
     "output_type": "execute_result"
    }
   ],
   "source": [
    "function real_roots_of_quadratic(a::Number, b::Number, c::Number)\n",
    "    if a == 0\n",
    "        return \"Error - this is not a quadratic equation\"\n",
    "    end\n",
    "    #Start by initializing an empty array\n",
    "    roots::Array{Float64} = []\n",
    "\n",
    "    #Compute the discriminant \n",
    "    Δ = b^2 - 4a*c #\\Delta + [TAB]\n",
    "\n",
    "    #Based on the sign of the discriminant return 0, 1, or 2 roots.\n",
    "    if Δ < 0 \n",
    "        roots = []\n",
    "    elseif Δ == 0\n",
    "        roots = [-b/(2a)]\n",
    "    else\n",
    "        roots = (-b .+ [√Δ,-√Δ])/(2a)\n",
    "    end\n",
    "    roots \n",
    "end\n",
    "\n",
    "#Attempting on -x²+5x-6=0\n",
    "real_roots_of_quadratic(0.0,5,-6)"
   ]
  },
  {
   "cell_type": "markdown",
   "id": "ad458d37",
   "metadata": {},
   "source": [
    "1. Since Julia is dynamically typed, the type specifications are not necessary and the function will work without them. However, it is often useful to add type annotations for readability and debugging purposes. Specifying types can also be useful if we want to use multiple dispatch to run different methods depending on the type of the parameters specified to a function.\n",
    "2. `4a*c` is allowed because in Julia variable names cannot start with a number, so Julia recognises the implicit multiplication. However, we cannot write `4ac` because then Julia will try and find a variable named `ac`.\n",
    "3. If we made a typo and wrote `Δ = 0` instead of `Δ == 0`, then Julia throws a syntax error. However, if we were to put brackets around the condition: `elseif (Δ = 0)`, then the code will run without a syntax error. This is because in this case, Julia treats the assignment as an expression. The expression `Δ = 0` returns the right hand side, `0`. In another language this could lead to a nasty bug because the if statement would never be run, but in Julia conditions must have boolean type, so we would then see a `TypeError`. It is often convenient that assignments are expressions, because it allows us to write things like: `x=y=z=1`.\n",
    "4. We can indeed write `(-b + [√Δ,-√Δ])/(2a)`, using the dot operator. If we try the same thing without a dot, then Julia will throw an error, because we cannot add a number to an array. The dot operator applies a function to each element in an array, in this case adding `-b`.\n",
    "5. The function will still work without the implicit return statement, since by default functions return the value of the last evaluated expression.\n",
    "6. We cannot use the function with `a = 0.0`, since we will then end up dividing by zero. This will not throw an error, but it means the roots will either be `NaN` or `Inf`, which is clearly not the intended behaviour.\n",
    "7. At the start of the function we can check if `a==0`, and return a string explaining the error if the function is not quadratic. This is a slightly messy solution.\n",
    "8. We can shorten the exact same code to\n",
    "    `a == 0 && return \"Error - this is not a quadratic equation\"`. This works because Julia has short-circuit evaluation for the and operator. If the first argument is false, then the entire and statement will be false and there is no need to evaluate the other side. If a is 0, then the first expression is true, so Julia needs to check the second expression, which returns the error message.\n",
    "9. Instead of returning a string, which could lead to problems down the line when using this function, we can explicitly throw an exception with a custom error message: `a == 0 && throw(DomainError(a, \"argument must be nonzero\"))`. In this case, the most appropriate type of error is a `DomainError`.\n",
    "\n"
   ]
  },
  {
   "cell_type": "markdown",
   "id": "b2e6626e",
   "metadata": {},
   "source": []
  }
 ],
 "metadata": {
  "kernelspec": {
   "display_name": "Julia 1.7.3",
   "language": "julia",
   "name": "julia-1.7"
  },
  "language_info": {
   "file_extension": ".jl",
   "mimetype": "application/julia",
   "name": "julia",
   "version": "1.7.3"
  },
  "vscode": {
   "interpreter": {
    "hash": "b0fa6594d8f4cbf19f97940f81e996739fb7646882a419484c72d19e05852a7e"
   }
  }
 },
 "nbformat": 4,
 "nbformat_minor": 5
}
