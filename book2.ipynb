{
 "cells": [
  {
   "cell_type": "markdown",
   "metadata": {},
   "source": [
    "## Question 5"
   ]
  },
  {
   "cell_type": "code",
   "execution_count": 13,
   "metadata": {},
   "outputs": [
    {
     "name": "stdout",
     "output_type": "stream",
     "text": [
      "The first 5 perfect numbers are [1, 6, 28, 496, 8128]"
     ]
    }
   ],
   "source": [
    "function get_factors(n)\n",
    "    factors = [1]\n",
    "    for i in 2:floor(sqrt(n))\n",
    "        if n % i == 0\n",
    "            push!(factors, i, n / i)\n",
    "        end\n",
    "    end\n",
    "    return factors\n",
    "end\n",
    "\n",
    "perfects = [i for i in 1:10^6 if sum(get_factors(i))==i]\n",
    "\n",
    "print(\"The first $(length(perfects)) perfect numbers are $(perfects)\")"
   ]
  },
  {
   "cell_type": "markdown",
   "metadata": {},
   "source": [
    "## Question 6"
   ]
  },
  {
   "cell_type": "code",
   "execution_count": 17,
   "metadata": {},
   "outputs": [
    {
     "data": {
      "text/plain": [
       "sieve_of_Eratosthenes (generic function with 1 method)"
      ]
     },
     "execution_count": 17,
     "metadata": {},
     "output_type": "execute_result"
    }
   ],
   "source": [
    "function sieve_of_Eratosthenes(n)\n",
    "    primebits = ones(Bool,n) #Will contain true if the index is prime (initially all assumed prime)\n",
    "    primebits[1] = false #The number 1 is not prime\n",
    "    p = 2 #Smallest prime\n",
    "    while p ≤ n\n",
    "        i = 2p\n",
    "        while i ≤ n  # \\le +[TAB]\n",
    "            primebits[i] = false\n",
    "            i += p\n",
    "        end\n",
    "        p += 1\n",
    "        while p ≤ n && !primebits[p]\n",
    "            p += 1\n",
    "        end\n",
    "    end\n",
    "    (1:n)[primebits]\n",
    "end"
   ]
  },
  {
   "cell_type": "code",
   "execution_count": null,
   "metadata": {},
   "outputs": [],
   "source": [
    "using Plots\n",
    "using StatsBase\n",
    "using Profile\n",
    "using ProfileView\n",
    "\n",
    "function sieve_of_Eratosthenes(n)\n",
    "    primebits = ones(Bool,n) #Will contain true if the index is prime (initially all assumed prime)\n",
    "    primebits[1] = false #The number 1 is not prime\n",
    "    p = 2 #Smallest prime\n",
    "    while p ≤ n\n",
    "        i = 2p\n",
    "        while i ≤ n  # \\le +[TAB]\n",
    "            primebits[i] = false\n",
    "            i += p\n",
    "        end\n",
    "        p += 1\n",
    "        while p ≤ n && !primebits[p]\n",
    "            p += 1\n",
    "        end\n",
    "    end\n",
    "    (1:n)[primebits]\n",
    "end\n",
    "\n",
    "function check_Goldbach(n::Int64,primes::Array{Int64})\n",
    "    @assert iseven(n)\n",
    "    num_pairs = 0\n",
    "    for p in primes\n",
    "        if p > n\n",
    "            break\n",
    "        end\n",
    "        if insorted(n-p,primes)\n",
    "            num_pairs += 1\n",
    "        end\n",
    "    end\n",
    "    return num_pairs\n",
    "end\n",
    "\n",
    "function run(n::Int64)\n",
    "    even_range = 4:2:n\n",
    "    primes ::Vector{Int64} = sieve_of_Eratosthenes(n)\n",
    "    checks = zeros(Int64,length(even_range))\n",
    "    Threads.@threads for (i, m) in collect(enumerate(even_range))\n",
    "        checks[i]=check_Goldbach(m,primes)\n",
    "    end\n",
    "    # checks = [check_Goldbach(m, primes) for m in even_range]\n",
    "    if 0 ∈ checks\n",
    "        println(\"Found a counter example for Goldbach\")\n",
    "    end\n",
    "    x = sample(even_range,min(2*10^4,n÷3),replace = false)\n",
    "    y = checks[(-1 .+ x.÷2)]\n",
    "    scatter(x,y,legend=false,xlabel=\"n\",ylabel=\"Number of Goldbach pairs\")\n",
    "    png(\"scatter.png\")\n",
    "    return nothing\n",
    "end\n",
    "\n",
    "@time ProfileView.@profview run(10^4)"
   ]
  },
  {
   "cell_type": "markdown",
   "metadata": {},
   "source": [
    "![](scatter_10^6.png)"
   ]
  }
 ],
 "metadata": {
  "kernelspec": {
   "display_name": "Julia 1.7.3",
   "language": "julia",
   "name": "julia-1.7"
  },
  "language_info": {
   "file_extension": ".jl",
   "mimetype": "application/julia",
   "name": "julia",
   "version": "1.7.3"
  },
  "orig_nbformat": 4
 },
 "nbformat": 4,
 "nbformat_minor": 2
}
