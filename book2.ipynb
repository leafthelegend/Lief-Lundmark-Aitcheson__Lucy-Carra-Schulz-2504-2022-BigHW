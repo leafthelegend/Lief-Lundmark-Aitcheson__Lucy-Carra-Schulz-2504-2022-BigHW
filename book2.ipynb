{
 "cells": [
  {
   "cell_type": "markdown",
   "metadata": {},
   "source": [
    "## Question 5"
   ]
  },
  {
   "cell_type": "code",
   "execution_count": 13,
   "metadata": {},
   "outputs": [
    {
     "name": "stdout",
     "output_type": "stream",
     "text": [
      "The first 5 perfect numbers are [1, 6, 28, 496, 8128]"
     ]
    }
   ],
   "source": [
    "function get_factors(n)\n",
    "    factors = [1]\n",
    "    for i in 2:floor(sqrt(n))\n",
    "        if n % i == 0\n",
    "            push!(factors, i, n / i)\n",
    "        end\n",
    "    end\n",
    "    return factors\n",
    "end\n",
    "\n",
    "perfects = [i for i in 1:10^6 if sum(get_factors(i))==i]\n",
    "\n",
    "print(\"The first $(length(perfects)) perfect numbers are $(perfects)\")"
   ]
  },
  {
   "cell_type": "markdown",
   "metadata": {},
   "source": [
    "## Question 6"
   ]
  },
  {
   "cell_type": "code",
   "execution_count": null,
   "metadata": {},
   "outputs": [],
   "source": [
    "function sieve_of_Eratosthenes(n)\n",
    "    primebits = ones(Bool,n) #Will contain true if the index is prime (initially all assumed prime)\n",
    "    primebits[1] = false #The number 1 is not prime\n",
    "    p = 2 #Smallest prime\n",
    "    while p ≤ n\n",
    "        i = 2p\n",
    "        while i ≤ n  # \\le +[TAB]\n",
    "            primebits[i] = false\n",
    "            i += p\n",
    "        end\n",
    "        p += 1\n",
    "        while p ≤ n && !primebits[p]\n",
    "            p += 1\n",
    "        end\n",
    "    end\n",
    "    (1:n)[primebits]\n",
    "end"
   ]
  },
  {
   "cell_type": "code",
   "execution_count": null,
   "metadata": {},
   "outputs": [],
   "source": [
    "using Plots\n",
    "using StatsBase\n",
    "using Profile\n",
    "using ProfileView\n",
    "\n",
    "function sieve_of_Eratosthenes(n)\n",
    "    primebits = ones(Bool,n) #Will contain true if the index is prime (initially all assumed prime)\n",
    "    primebits[1] = false #The number 1 is not prime\n",
    "    p = 2 #Smallest prime\n",
    "    while p ≤ n\n",
    "        i = 2p\n",
    "        while i ≤ n  # \\le +[TAB]\n",
    "            primebits[i] = false\n",
    "            i += p\n",
    "        end\n",
    "        p += 1\n",
    "        while p ≤ n && !primebits[p]\n",
    "            p += 1\n",
    "        end\n",
    "    end\n",
    "    (1:n)[primebits]\n",
    "end\n",
    "\n",
    "function check_Goldbach(n::Int64,primes::Array{Int64})\n",
    "    @assert iseven(n)\n",
    "    num_pairs = 0\n",
    "    for p in primes\n",
    "        if p > n\n",
    "            break\n",
    "        end\n",
    "        if insorted(n-p,primes)\n",
    "            num_pairs += 1\n",
    "        end\n",
    "    end\n",
    "    return num_pairs\n",
    "end\n",
    "\n",
    "function run(n::Int64)\n",
    "    even_range = 4:2:n\n",
    "    primes ::Vector{Int64} = sieve_of_Eratosthenes(n)\n",
    "    checks = zeros(Int64,length(even_range))\n",
    "    Threads.@threads for (i, m) in collect(enumerate(even_range))\n",
    "        checks[i]=check_Goldbach(m,primes)\n",
    "    end\n",
    "    # checks = [check_Goldbach(m, primes) for m in even_range]\n",
    "    if 0 ∈ checks\n",
    "        println(\"Found a counter example for Goldbach\")\n",
    "    end\n",
    "    x = sample(even_range,min(2*10^4,n÷3),replace = false)\n",
    "    y = checks[(-1 .+ x.÷2)]\n",
    "    scatter(x,y,legend=false,xlabel=\"n\",ylabel=\"Number of Goldbach pairs\")\n",
    "    png(\"scatter.png\")\n",
    "    return nothing\n",
    "end\n",
    "\n",
    "@time ProfileView.@profview run(10^6)"
   ]
  },
  {
   "cell_type": "markdown",
   "metadata": {},
   "source": [
    "![](scatter_10^6.png)"
   ]
  },
  {
   "cell_type": "markdown",
   "metadata": {},
   "source": [
    "## Question 8a\n",
    "The code below has been modified to sort by length of last name:"
   ]
  },
  {
   "cell_type": "code",
   "execution_count": null,
   "metadata": {},
   "outputs": [],
   "source": [
    "function array_table(array, heading)\n",
    "    println(heading,\":\")\n",
    "    for (i,a) in enumerate(array)\n",
    "        println(i,\"\\t\",a)\n",
    "    end\n",
    "end\n",
    "\n",
    "names = [   \"Amy Chan\",\n",
    "            \"Maithili Mehta\",\n",
    "            \"Anna Foeglein\",\n",
    "            \"Andy Ferris\",\n",
    "            \"Thomas Graham\",\n",
    "            \"Elaine Schenk\",\n",
    "            \"Jesse Woods\",\n",
    "            \"Tina Moghaddam\",\n",
    "            \"Paul Bellette\",\n",
    "            \"Paul Vrbik\",\n",
    "            \"Tom Cranitch\",\n",
    "            \"Yoni Nazarathy\",\n",
    "            \"Sam Hambleton\",\n",
    "            \"Alistair Falconer\",\n",
    "            \"Emma Comino\",\n",
    "            \"Ivana Carrizo-Molina\"]\n",
    "\n",
    "sorted_names = sort(names)\n",
    "array_table(sorted_names, \"Sorted by first name\")\n",
    "\n",
    "println()\n",
    "\n",
    "sorted_names = sort(names,by=(x)->length(split(x,\" \")[2]))\n",
    "array_table(sorted_names,\"Sorted by length of last name\")"
   ]
  },
  {
   "cell_type": "code",
   "execution_count": null,
   "metadata": {},
   "outputs": [],
   "source": [
    "function sort_bubble(list,by=(x)->x)\n",
    "    for i in 1:length(list)-1\n",
    "        for j in 1:length(list)-i\n",
    "            if by(list[j]) > by(list[j+1])\n",
    "                tmp = list[j]\n",
    "                list[j] = list[j+1]\n",
    "                list[j+1] = tmp\n",
    "            end\n",
    "        end\n",
    "    end\n",
    "    return list\n",
    "end\n",
    "\n",
    "print(sort_bubble([3,1,6,2,87,2,56,32,4,1,2,56,7,234,7,42]))"
   ]
  },
  {
   "cell_type": "code",
   "execution_count": 1,
   "metadata": {},
   "outputs": [
    {
     "name": "stdout",
     "output_type": "stream",
     "text": [
      "3122"
     ]
    },
    {
     "name": "stdout",
     "output_type": "stream",
     "text": [
      "68756327"
     ]
    },
    {
     "name": "stdout",
     "output_type": "stream",
     "text": [
      "[1, 1, 2, 2, 2, 3, 4, 6, 7, 7, 32, 42, 56, 56, 87, 234]"
     ]
    }
   ],
   "source": [
    "function quick_sort(list,by=(x)->x)\n",
    "    if length(list)<=1\n",
    "        return list\n",
    "    end\n",
    "    pivot = by(list[1]) #The choice of pivot can be optimised but does not matter too much for our purposes\n",
    "    left = [x for x in list[2:end] if by(x)<pivot]\n",
    "    right = [x for x in list[2:end] if by(x)>=pivot]\n",
    "    print(pivot)\n",
    "    return(cat(quick_sort(left),[pivot],quick_sort(right),dims=1))\n",
    "end\n",
    "\n",
    "print(quick_sort([3,1,6,2,87,2,56,32,4,1,2,56,7,234,7,42]))"
   ]
  },
  {
   "cell_type": "markdown",
   "metadata": {},
   "source": [
    "## Question 8d"
   ]
  },
  {
   "cell_type": "code",
   "execution_count": null,
   "metadata": {},
   "outputs": [],
   "source": [
    "function test(n)\n",
    "    data = rand(Int,n)\n",
    "    println(\"system sort\")\n",
    "    @btime sort($data)\n",
    "    println(\"quick sort\")\n",
    "    @btime quick_sort($data)\n",
    "    println(\"bubble sort\")\n",
    "    @btime bubble_sort($data)\n",
    "    return nothing\n",
    "end\n",
    "\n",
    "test(10^6)\n"
   ]
  },
  {
   "cell_type": "markdown",
   "metadata": {},
   "source": [
    "$10^6$\n",
    "\n",
    " - System sort = 89.285 ms\n",
    " - Quick sort = 3.561 s\n",
    "\n",
    "$10^7$\n",
    "\n",
    " - System sort = 1.050 s\n",
    " - Quick sort = 35.680 s"
   ]
  }
 ],
 "metadata": {
  "kernelspec": {
   "display_name": "Julia 1.7.3",
   "language": "julia",
   "name": "julia-1.7"
  },
  "language_info": {
   "file_extension": ".jl",
   "mimetype": "application/julia",
   "name": "julia",
   "version": "1.7.3"
  },
  "orig_nbformat": 4
 },
 "nbformat": 4,
 "nbformat_minor": 2
}
