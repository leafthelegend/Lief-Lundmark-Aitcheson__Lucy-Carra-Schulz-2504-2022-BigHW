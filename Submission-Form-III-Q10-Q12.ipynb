{
 "cells": [
  {
   "cell_type": "markdown",
   "metadata": {},
   "source": [
    "### MATH2504 S2, 2022, BigHW Submission \n",
    "### Submission form III of IV "
   ]
  },
  {
   "cell_type": "markdown",
   "metadata": {},
   "source": [
    "Student #1 name: Lief Lundmark-Aitcheson\n",
    "\n",
    "Student #1 ID: s4703653\n",
    "\n",
    "Student #2 name: Lucy Carra Schulz\n",
    "\n",
    "Student #2 ID: 47020674\n",
    "\n",
    "GitHub repo: Lief-Lundmark-Aitcheson__Lucy-Carra-Schulz-2504-2022-BigHW"
   ]
  },
  {
   "cell_type": "markdown",
   "metadata": {},
   "source": [
    "# Solution to [Question 10](https://courses.smp.uq.edu.au/MATH2504/2022/assessment_html/bighw.html#q10)"
   ]
  },
  {
   "cell_type": "markdown",
   "metadata": {},
   "source": [
    "No problems. The github repo includes an assets folder which contains the images and plots included in these notebooks."
   ]
  },
  {
   "cell_type": "markdown",
   "metadata": {},
   "source": [
    "# Solution to [Question 11](https://courses.smp.uq.edu.au/MATH2504/2022/assessment_html/bighw.html#q11)"
   ]
  },
  {
   "cell_type": "markdown",
   "metadata": {},
   "source": [
    "## 11a:"
   ]
  },
  {
   "cell_type": "markdown",
   "metadata": {},
   "source": [
    "    lucyc@DESKTOP-A9L7F0F MINGW64 ~\n",
    "    $ mkdir hw2_q1\n",
    "\n",
    "    lucyc@DESKTOP-A9L7F0F MINGW64 ~\n",
    "    $ cd hw2_q1/\n",
    "\n",
    "    lucyc@DESKTOP-A9L7F0F MINGW64 ~/hw2_q1\n",
    "    $ pwd\n",
    "    /c/Users/lucyc/hw2_q1"
   ]
  },
  {
   "cell_type": "markdown",
   "metadata": {},
   "source": [
    "## 11b:"
   ]
  },
  {
   "cell_type": "markdown",
   "metadata": {},
   "source": [
    "    lucyc@DESKTOP-A9L7F0F MINGW64 ~/hw2_q1\n",
    "    $ echo lucy\n",
    "    lucy\n"
   ]
  },
  {
   "cell_type": "markdown",
   "metadata": {},
   "source": [
    "## 11c:"
   ]
  },
  {
   "cell_type": "markdown",
   "metadata": {},
   "source": [
    "    lucyc@DESKTOP-A9L7F0F MINGW64 ~/hw2_q1\n",
    "    $ echo lucy > my_name.txt\n"
   ]
  },
  {
   "cell_type": "markdown",
   "metadata": {},
   "source": [
    "## 11d:"
   ]
  },
  {
   "cell_type": "markdown",
   "metadata": {},
   "source": [
    "    lucyc@DESKTOP-A9L7F0F MINGW64 ~/hw2_q1\n",
    "    $ cat my_name.txt\n",
    "    lucy\n",
    "\n"
   ]
  },
  {
   "cell_type": "markdown",
   "metadata": {},
   "source": [
    "## 11e:"
   ]
  },
  {
   "cell_type": "markdown",
   "metadata": {},
   "source": [
    "    lucyc@DESKTOP-A9L7F0F MINGW64 ~/hw2_q1\n",
    "    $ ls -l\n",
    "    total 1\n",
    "    -rw-r--r-- 1 lucyc 197609 5 Aug  4 13:59 my_name.txt\n"
   ]
  },
  {
   "cell_type": "markdown",
   "metadata": {},
   "source": [
    "## 11f:"
   ]
  },
  {
   "cell_type": "markdown",
   "metadata": {},
   "source": [
    "    lucyc@DESKTOP-A9L7F0F MINGW64 ~/hw2_q1\n",
    "    $ cp my_name.txt my_name2.txt"
   ]
  },
  {
   "cell_type": "markdown",
   "metadata": {},
   "source": [
    "## 11g:"
   ]
  },
  {
   "cell_type": "markdown",
   "metadata": {},
   "source": [
    "    lucyc@DESKTOP-A9L7F0F MINGW64 ~/hw2_q1\n",
    "    $ mkdir people"
   ]
  },
  {
   "cell_type": "markdown",
   "metadata": {},
   "source": [
    "## 11h:"
   ]
  },
  {
   "cell_type": "markdown",
   "metadata": {},
   "source": [
    "    lucyc@DESKTOP-A9L7F0F MINGW64 ~/hw2_q1\n",
    "    $ mv my_name2.txt people/lucy_carraschulz.txt\n"
   ]
  },
  {
   "cell_type": "markdown",
   "metadata": {},
   "source": [
    "## 11i:"
   ]
  },
  {
   "cell_type": "markdown",
   "metadata": {},
   "source": [
    "    lucyc@DESKTOP-A9L7F0F MINGW64 ~/hw2_q1\n",
    "    $ echo alex > people/alex.txt\n",
    "\n",
    "    lucyc@DESKTOP-A9L7F0F MINGW64 ~/hw2_q1\n",
    "    $ echo bob > people/bob.txt\n",
    "\n",
    "    lucyc@DESKTOP-A9L7F0F MINGW64 ~/hw2_q1\n",
    "    $ echo charlie > people/charlie.txt\n"
   ]
  },
  {
   "cell_type": "markdown",
   "metadata": {},
   "source": [
    "## 11j:"
   ]
  },
  {
   "cell_type": "markdown",
   "metadata": {},
   "source": [
    "    lucyc@DESKTOP-A9L7F0F MINGW64 ~/hw2_q1\n",
    "    $ cd people\n",
    "\n",
    "    lucyc@DESKTOP-A9L7F0F MINGW64 ~/hw2_q1/people\n",
    "    $ mv alex.txt ..\n"
   ]
  },
  {
   "cell_type": "markdown",
   "metadata": {},
   "source": [
    "## 11k:"
   ]
  },
  {
   "cell_type": "markdown",
   "metadata": {},
   "source": [
    "    lucyc@DESKTOP-A9L7F0F MINGW64 ~/hw2_q1/people\n",
    "    $ mv bob.txt /c/Users/lucyc/hw2_q1\n"
   ]
  },
  {
   "cell_type": "markdown",
   "metadata": {},
   "source": [
    "## 11l:"
   ]
  },
  {
   "cell_type": "markdown",
   "metadata": {},
   "source": [
    "    lucyc@DESKTOP-A9L7F0F MINGW64 ~/hw2_q1/people\n",
    "    $ cp charlie.txt .charlie.txt"
   ]
  },
  {
   "cell_type": "markdown",
   "metadata": {},
   "source": [
    "## 11m:"
   ]
  },
  {
   "cell_type": "markdown",
   "metadata": {},
   "source": [
    "    lucyc@DESKTOP-A9L7F0F MINGW64 ~/hw2_q1/people\n",
    "    $ ls -a\n",
    "    ./  ../  .charlie.txt  charlie.txt  lucy_carraschulz.txt\n"
   ]
  },
  {
   "cell_type": "markdown",
   "metadata": {},
   "source": [
    "## 11n:"
   ]
  },
  {
   "cell_type": "markdown",
   "metadata": {},
   "source": [
    "    lucyc@DESKTOP-A9L7F0F MINGW64 ~/hw2_q1/people\n",
    "    $ rm .*\n"
   ]
  },
  {
   "cell_type": "markdown",
   "metadata": {},
   "source": [
    "## 11o:"
   ]
  },
  {
   "cell_type": "markdown",
   "metadata": {},
   "source": [
    "    lucyc@DESKTOP-A9L7F0F MINGW64 ~/hw2_q1/people\n",
    "    $ cd ..\n",
    "\n",
    "    lucyc@DESKTOP-A9L7F0F MINGW64 ~/hw2_q1\n",
    "    $ rmdir people\n"
   ]
  },
  {
   "cell_type": "markdown",
   "metadata": {},
   "source": [
    "# Solution to [Question 12](https://courses.smp.uq.edu.au/MATH2504/2022/assessment_html/bighw.html#q12)"
   ]
  },
  {
   "cell_type": "code",
   "execution_count": 1,
   "metadata": {},
   "outputs": [
    {
     "name": "stdout",
     "output_type": "stream",
     "text": [
      "Number of cells: 60\n",
      "Number of code cells: 33\n",
      "Number of markdown cells: 27\n",
      "Number of code cells with output: 12\n",
      "Number of code cells without output: 21\n",
      "Number of words: 770\n"
     ]
    }
   ],
   "source": [
    "using HTTP\n",
    "using JSON\n",
    "#make a get request\n",
    "nb = HTTP.request(\"GET\", \"https://raw.githubusercontent.com/yoninazarathy/ProgrammingCourse-with-Julia-SimulationAnalysisAndLearningSystems/main/practicals_jupyter/practical_B_julia_essentials.ipynb\")\n",
    "\n",
    "book = JSON.parse(String(nb.body))\n",
    "\n",
    "cells = book[\"cells\"]\n",
    "\n",
    "##construct and display summary\n",
    "\n",
    "nCells = length(cells)\n",
    "nCode = count(cell->cell[\"cell_type\"] == \"code\", cells)\n",
    "nMD = count(cell->cell[\"cell_type\"] == \"markdown\", cells)\n",
    "nOutput = count(cell->cell[\"cell_type\"] == \"code\" && length(cell[\"outputs\"]) > 0, cells)\n",
    "\n",
    "println(\"Number of cells: \", nCells)\n",
    "println(\"Number of code cells: \", nCode)\n",
    "println(\"Number of markdown cells: \", nMD)\n",
    "println(\"Number of code cells with output: \", nOutput)\n",
    "println(\"Number of code cells without output: \", nCode - nOutput)\n",
    "\n",
    "words = 0\n",
    "\n",
    "for cell in cells\n",
    "    if cell[\"cell_type\"] == \"markdown\"\n",
    "        for line in cell[\"source\"]\n",
    "            words += length(split(line, \" \"))\n",
    "        end\n",
    "    end\n",
    "end\n",
    "\n",
    "println(\"Number of words: \", words)\n",
    "\n",
    "##create CSV files\n",
    "\n",
    "open(\"markdown_summary.csv\", \"w\") do f\n",
    "    write(f, \"cell_number,character_count,line_count,#,##,###,####\\n\")\n",
    "    cell_count = 0\n",
    "    for cell in cells\n",
    "        if cell[\"cell_type\"] == \"markdown\"\n",
    "            cell_count += 1\n",
    "            char_count=line_count=sym1=sym2=sym3=sym4=0\n",
    "            for line in cell[\"source\"]\n",
    "                char_count += length(line)\n",
    "                line_count += 1\n",
    "                sym1 += length(collect(eachmatch(r\"(?<!#)#(?!#)\", line)))\n",
    "                sym2 += length(collect(eachmatch(r\"(?<!#)##(?!#)\", line)))\n",
    "                sym3 += length(collect(eachmatch(r\"(?<!#)###(?!#)\", line)))\n",
    "                sym4 += length(collect(eachmatch(r\"(?<!#)####(?!#)\", line)))\n",
    "            end\n",
    "            print(f, cell_count, \",\", char_count, \",\", line_count, \",\", sym1, \",\", sym2, \",\", sym3, \",\", sym4, \"\\n\")\n",
    "        end\n",
    "    end\n",
    "end\n",
    "\n",
    "open(\"code_summary.csv\", \"w\") do f\n",
    "    write(f, \"cell_number,character_count,line_count,return,for,if,using\\n\")\n",
    "    cell_count = 0\n",
    "    for cell in cells\n",
    "        if cell[\"cell_type\"] == \"code\"\n",
    "            cell_count += 1\n",
    "            char_count=line_count=sym1=sym2=sym3=sym4=0\n",
    "            for line in cell[\"source\"]\n",
    "                char_count += length(line)\n",
    "                line_count += 1\n",
    "                sym1 += length(collect(eachmatch(r\"\\breturn\\b\", line)))\n",
    "                sym2 += length(collect(eachmatch(r\"\\bfor\\b\", line)))\n",
    "                sym3 += length(collect(eachmatch(r\"\\bif\\b\", line)))\n",
    "                sym4 += length(collect(eachmatch(r\"\\busing\\b\", line)))\n",
    "            end\n",
    "            print(f, cell_count, \",\", char_count, \",\", line_count, \",\", sym1, \",\", sym2, \",\", sym3, \",\", sym4, \"\\n\")\n",
    "        end\n",
    "    end\n",
    "end"
   ]
  },
  {
   "cell_type": "markdown",
   "metadata": {},
   "source": [
    "The first 3 rows of each csv file are given below:\n",
    "\n",
    "`code_summary.csv`:\n",
    "\n",
    "```\n",
    "cell_number,character_count,line_count,return,for,if,using\n",
    "1,72,1,0,0,0,0\n",
    "2,44,2,0,0,0,0\n",
    "3,37,1,0,1,0,0\n",
    "```\n",
    "\n",
    "`markdown_summary.csv`:\n",
    "\n",
    "```\n",
    "cell_number,character_count,line_count,#,##,###,####\n",
    "1,518,9,2,1,0,0\n",
    "2,77,2,0,0,1,0\n",
    "3,12,1,0,0,1,0\n",
    "```"
   ]
  }
 ],
 "metadata": {
  "kernelspec": {
   "display_name": "Julia 1.7.3",
   "language": "julia",
   "name": "julia-1.7"
  },
  "language_info": {
   "file_extension": ".jl",
   "mimetype": "application/julia",
   "name": "julia",
   "version": "1.7.3"
  }
 },
 "nbformat": 4,
 "nbformat_minor": 4
}
