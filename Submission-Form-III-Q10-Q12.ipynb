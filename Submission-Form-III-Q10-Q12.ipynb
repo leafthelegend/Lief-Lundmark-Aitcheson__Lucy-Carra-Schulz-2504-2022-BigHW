{
 "cells": [
  {
   "cell_type": "markdown",
   "metadata": {},
   "source": [
    "### MATH2504 S2, 2022, BigHW Submission \n",
    "### Submission form III of IV "
   ]
  },
  {
   "cell_type": "markdown",
   "metadata": {},
   "source": [
    "Student #1 name: ###Lief\n",
    "\n",
    "Student #1 ID: ###Lief\n",
    "\n",
    "Student #2 name: Lucy Carra Schulz\n",
    "\n",
    "Student #2 ID: 47020674\n",
    "\n",
    "GitHub repo: ###Lief"
   ]
  },
  {
   "cell_type": "markdown",
   "metadata": {},
   "source": [
    "---\n",
    "\n",
    "**Note: It is expected that this notebook be runnable in the sense that the marker can select \"Restart & Run All\" and all code cells of solutions will execute. This requires not to have name clashes between solutions.**\n",
    "\n",
    "---"
   ]
  },
  {
   "cell_type": "markdown",
   "metadata": {},
   "source": [
    "# Solution to [Question 10](https://courses.smp.uq.edu.au/MATH2504/2022/assessment_html/bighw.html#q10)"
   ]
  },
  {
   "cell_type": "code",
   "execution_count": null,
   "metadata": {},
   "outputs": [],
   "source": [
    "###Lief Make this a markdown cell and state if you had any problems with git and GitHub (in place of this comment)"
   ]
  },
  {
   "cell_type": "markdown",
   "metadata": {},
   "source": [
    "# Solution to [Question 11](https://courses.smp.uq.edu.au/MATH2504/2022/assessment_html/bighw.html#q11)"
   ]
  },
  {
   "cell_type": "markdown",
   "metadata": {},
   "source": [
    "## 11a:"
   ]
  },
  {
   "cell_type": "markdown",
   "metadata": {},
   "source": [
    "lucyc@DESKTOP-A9L7F0F MINGW64 ~\n",
    "$ mkdir hw2_q1\n",
    "\n",
    "lucyc@DESKTOP-A9L7F0F MINGW64 ~\n",
    "$ cd hw2_q1/\n",
    "\n",
    "lucyc@DESKTOP-A9L7F0F MINGW64 ~/hw2_q1\n",
    "$ pwd\n",
    "/c/Users/lucyc/hw2_q1"
   ]
  },
  {
   "cell_type": "markdown",
   "metadata": {},
   "source": [
    "## 11b:"
   ]
  },
  {
   "cell_type": "markdown",
   "metadata": {},
   "source": [
    "lucyc@DESKTOP-A9L7F0F MINGW64 ~/hw2_q1\n",
    "$ echo lucy\n",
    "lucy\n"
   ]
  },
  {
   "cell_type": "markdown",
   "metadata": {},
   "source": [
    "## 11c:"
   ]
  },
  {
   "cell_type": "code",
   "execution_count": null,
   "metadata": {},
   "outputs": [],
   "source": [
    "lucyc@DESKTOP-A9L7F0F MINGW64 ~/hw2_q1\n",
    "$ echo lucy > my_name.txt\n"
   ]
  },
  {
   "cell_type": "markdown",
   "metadata": {},
   "source": [
    "## 11d:"
   ]
  },
  {
   "cell_type": "code",
   "execution_count": null,
   "metadata": {},
   "outputs": [],
   "source": [
    "lucyc@DESKTOP-A9L7F0F MINGW64 ~/hw2_q1\n",
    "$ cat my_name.txt\n",
    "lucy\n",
    "\n"
   ]
  },
  {
   "cell_type": "markdown",
   "metadata": {},
   "source": [
    "## 11e:"
   ]
  },
  {
   "cell_type": "code",
   "execution_count": null,
   "metadata": {},
   "outputs": [],
   "source": [
    "lucyc@DESKTOP-A9L7F0F MINGW64 ~/hw2_q1\n",
    "$ ls -l\n",
    "total 1\n",
    "-rw-r--r-- 1 lucyc 197609 5 Aug  4 13:59 my_name.txt\n"
   ]
  },
  {
   "cell_type": "markdown",
   "metadata": {},
   "source": [
    "## 11f:"
   ]
  },
  {
   "cell_type": "code",
   "execution_count": null,
   "metadata": {},
   "outputs": [],
   "source": [
    "lucyc@DESKTOP-A9L7F0F MINGW64 ~/hw2_q1\n",
    "$ cp my_name.txt my_name2.txt"
   ]
  },
  {
   "cell_type": "markdown",
   "metadata": {},
   "source": [
    "## 11g:"
   ]
  },
  {
   "cell_type": "code",
   "execution_count": null,
   "metadata": {},
   "outputs": [],
   "source": [
    "lucyc@DESKTOP-A9L7F0F MINGW64 ~/hw2_q1\n",
    "$ mkdir people"
   ]
  },
  {
   "cell_type": "markdown",
   "metadata": {},
   "source": [
    "## 11h:"
   ]
  },
  {
   "cell_type": "code",
   "execution_count": null,
   "metadata": {},
   "outputs": [],
   "source": [
    "lucyc@DESKTOP-A9L7F0F MINGW64 ~/hw2_q1\n",
    "$ mv my_name2.txt people/lucy_carraschulz.txt\n"
   ]
  },
  {
   "cell_type": "markdown",
   "metadata": {},
   "source": [
    "## 11i:"
   ]
  },
  {
   "cell_type": "code",
   "execution_count": null,
   "metadata": {},
   "outputs": [],
   "source": [
    "lucyc@DESKTOP-A9L7F0F MINGW64 ~/hw2_q1\n",
    "$ echo alex > people/alex.txt\n",
    "\n",
    "lucyc@DESKTOP-A9L7F0F MINGW64 ~/hw2_q1\n",
    "$ echo bob > people/bob.txt\n",
    "\n",
    "lucyc@DESKTOP-A9L7F0F MINGW64 ~/hw2_q1\n",
    "$ echo charlie > people/charlie.txt\n"
   ]
  },
  {
   "cell_type": "markdown",
   "metadata": {},
   "source": [
    "## 11j:"
   ]
  },
  {
   "cell_type": "code",
   "execution_count": null,
   "metadata": {},
   "outputs": [],
   "source": [
    "lucyc@DESKTOP-A9L7F0F MINGW64 ~/hw2_q1\n",
    "$ cd people\n",
    "\n",
    "lucyc@DESKTOP-A9L7F0F MINGW64 ~/hw2_q1/people\n",
    "$ mv alex.txt ..\n"
   ]
  },
  {
   "cell_type": "markdown",
   "metadata": {},
   "source": [
    "## 11k:"
   ]
  },
  {
   "cell_type": "code",
   "execution_count": null,
   "metadata": {},
   "outputs": [],
   "source": [
    "lucyc@DESKTOP-A9L7F0F MINGW64 ~/hw2_q1/people\n",
    "$ mv bob.txt /c/Users/lucyc/hw2_q1\n"
   ]
  },
  {
   "cell_type": "markdown",
   "metadata": {},
   "source": [
    "## 11l:"
   ]
  },
  {
   "cell_type": "code",
   "execution_count": null,
   "metadata": {},
   "outputs": [],
   "source": [
    "lucyc@DESKTOP-A9L7F0F MINGW64 ~/hw2_q1/people\n",
    "$ cp charlie.txt .charlie.txt"
   ]
  },
  {
   "cell_type": "markdown",
   "metadata": {},
   "source": [
    "## 11m:"
   ]
  },
  {
   "cell_type": "code",
   "execution_count": null,
   "metadata": {},
   "outputs": [],
   "source": [
    "lucyc@DESKTOP-A9L7F0F MINGW64 ~/hw2_q1/people\n",
    "$ ls -a\n",
    "./  ../  .charlie.txt  charlie.txt  lucy_carraschulz.txt\n"
   ]
  },
  {
   "cell_type": "markdown",
   "metadata": {},
   "source": [
    "## 11n:"
   ]
  },
  {
   "cell_type": "code",
   "execution_count": null,
   "metadata": {},
   "outputs": [],
   "source": [
    "lucyc@DESKTOP-A9L7F0F MINGW64 ~/hw2_q1/people\n",
    "$ rm .*\n"
   ]
  },
  {
   "cell_type": "markdown",
   "metadata": {},
   "source": [
    "## 11o:"
   ]
  },
  {
   "cell_type": "code",
   "execution_count": null,
   "metadata": {},
   "outputs": [],
   "source": [
    "lucyc@DESKTOP-A9L7F0F MINGW64 ~/hw2_q1/people\n",
    "$ cd ..\n",
    "\n",
    "lucyc@DESKTOP-A9L7F0F MINGW64 ~/hw2_q1\n",
    "$ rmdir people\n"
   ]
  },
  {
   "cell_type": "markdown",
   "metadata": {},
   "source": [
    "---\n",
    "\n",
    "*Use this area below as an experimental playground for the question. Feel free to leave some of the experimental code here with your submision. However, it will not be marked or reviewed. Make sure in your submission that if there is any experimental code here then running it does not interfere with running the actual solutions.*\n",
    "\n",
    "---"
   ]
  },
  {
   "cell_type": "code",
   "execution_count": null,
   "metadata": {},
   "outputs": [],
   "source": []
  },
  {
   "cell_type": "code",
   "execution_count": null,
   "metadata": {},
   "outputs": [],
   "source": []
  },
  {
   "cell_type": "code",
   "execution_count": null,
   "metadata": {},
   "outputs": [],
   "source": []
  },
  {
   "cell_type": "markdown",
   "metadata": {},
   "source": [
    "# Solution to [Question 12](https://courses.smp.uq.edu.au/MATH2504/2022/assessment_html/bighw.html#q12)"
   ]
  },
  {
   "cell_type": "code",
   "execution_count": null,
   "metadata": {},
   "outputs": [],
   "source": [
    "###Lief Answer question 12 here (in place of this comment)"
   ]
  },
  {
   "cell_type": "markdown",
   "metadata": {},
   "source": [
    "---\n",
    "\n",
    "*Use this area below as an experimental playground for the question. Feel free to leave some of the experimental code here with your submision. However, it will not be marked or reviewed. Make sure in your submission that if there is any experimental code here then running it does not interfere with running the actual solutions.*\n",
    "\n",
    "---"
   ]
  },
  {
   "cell_type": "code",
   "execution_count": null,
   "metadata": {},
   "outputs": [],
   "source": []
  },
  {
   "cell_type": "code",
   "execution_count": null,
   "metadata": {},
   "outputs": [],
   "source": []
  },
  {
   "cell_type": "code",
   "execution_count": null,
   "metadata": {},
   "outputs": [],
   "source": []
  },
  {
   "cell_type": "code",
   "execution_count": null,
   "metadata": {},
   "outputs": [],
   "source": []
  }
 ],
 "metadata": {
  "kernelspec": {
   "display_name": "Julia 1.7.3",
   "language": "julia",
   "name": "julia-1.7"
  },
  "language_info": {
   "file_extension": ".jl",
   "mimetype": "application/julia",
   "name": "julia",
   "version": "1.7.3"
  }
 },
 "nbformat": 4,
 "nbformat_minor": 4
}
