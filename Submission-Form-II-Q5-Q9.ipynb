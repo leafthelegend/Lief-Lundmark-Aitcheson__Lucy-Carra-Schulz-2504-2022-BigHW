{
 "cells": [
  {
   "cell_type": "markdown",
   "metadata": {},
   "source": [
    "### MATH2504 S2, 2022, BigHW Submission \n",
    "### Submission form II of IV "
   ]
  },
  {
   "cell_type": "markdown",
   "metadata": {},
   "source": [
    "Student #1 name: Lief Lundmark-Aitcheson\n",
    "\n",
    "Student #1 ID: s4703653\n",
    "\n",
    "Student #2 name: Lucy Carra Schulz \n",
    "\n",
    "Student #2 ID: 47020674\n",
    "\n",
    "GitHub repo: Lief-Lundmark-Aitcheson__Lucy-Carra-Schulz-2504-2022-BigHW"
   ]
  },
  {
   "cell_type": "markdown",
   "metadata": {},
   "source": [
    "# Solution to [Question 5](https://courses.smp.uq.edu.au/MATH2504/2022/assessment_html/bighw.html#q5)"
   ]
  },
  {
   "cell_type": "code",
   "execution_count": 3,
   "metadata": {},
   "outputs": [
    {
     "name": "stdout",
     "output_type": "stream",
     "text": [
      "The first 5 perfect numbers are [1, 6, 28, 496, 8128]"
     ]
    }
   ],
   "source": [
    "function get_factors(n)\n",
    "    factors = [1]\n",
    "    for i in 2:floor(sqrt(n))\n",
    "        if n % i == 0\n",
    "            push!(factors, i, n / i)\n",
    "        end\n",
    "    end\n",
    "    return factors\n",
    "end\n",
    "\n",
    "perfects = [i for i in 1:10^6 if sum(get_factors(i))==i]\n",
    "\n",
    "print(\"The first $(length(perfects)) perfect numbers are $(perfects)\")"
   ]
  },
  {
   "cell_type": "markdown",
   "metadata": {},
   "source": [
    "# Solution to [Question 6](https://courses.smp.uq.edu.au/MATH2504/2022/assessment_html/bighw.html#q6)"
   ]
  },
  {
   "cell_type": "code",
   "execution_count": 5,
   "metadata": {},
   "outputs": [
    {
     "name": "stdout",
     "output_type": "stream",
     "text": [
      "  5.660514 seconds (786.03 k allocations: 33.744 MiB)\n"
     ]
    }
   ],
   "source": [
    "using Plots\n",
    "using StatsBase\n",
    "using Profile\n",
    "using ProfileView\n",
    "\n",
    "function sieve_of_Eratosthenes(n)\n",
    "    primebits = ones(Bool,n) #Will contain true if the index is prime (initially all assumed prime)\n",
    "    primebits[1] = false #The number 1 is not prime\n",
    "    p = 2 #Smallest prime\n",
    "    while p ≤ n\n",
    "        i = 2p\n",
    "        while i ≤ n  # \\le +[TAB]\n",
    "            primebits[i] = false\n",
    "            i += p\n",
    "        end\n",
    "        p += 1\n",
    "        while p ≤ n && !primebits[p]\n",
    "            p += 1\n",
    "        end\n",
    "    end\n",
    "    (1:n)[primebits]\n",
    "end\n",
    "\n",
    "function run(n::Int64)\n",
    "    even_range = 4:2:n\n",
    "    primes ::Vector{Int64} = sieve_of_Eratosthenes(n)[2:end]\n",
    "    #exclude 2, because odd sums are problematic for us\n",
    "    pairs = zeros(Int64,2*length(even_range))\n",
    "    pairs[1] = 1 #account for 2+2 = 4\n",
    "    for (i, p) in enumerate(primes)\n",
    "        for j in i:length(primes)\n",
    "            sum = p + primes[j]\n",
    "            pairs[sum÷2 - 1] += 1\n",
    "        end\n",
    "    end\n",
    "    checks = pairs[1:length(even_range)]\n",
    "    if 0 ∈ checks\n",
    "        println(\"Found a counter example for Goldbach\")\n",
    "    end\n",
    "    \n",
    "    x = sample(even_range,min(2*10^4,n÷3),replace = false)\n",
    "    y = checks[(-1 .+ x.÷2)]\n",
    "    scatter(x,y,legend=false,xlabel=\"N\",ylabel=\"Number of Goldbach pairs\")\n",
    "    png(\"scatter.png\")\n",
    "    return nothing\n",
    "end\n",
    "\n",
    "@time run(10^6)"
   ]
  },
  {
   "cell_type": "markdown",
   "metadata": {},
   "source": [
    "![](scatter.png)"
   ]
  },
  {
   "cell_type": "markdown",
   "metadata": {},
   "source": [
    "# Solution to [Question 7](https://courses.smp.uq.edu.au/MATH2504/2022/assessment_html/bighw.html#q7)"
   ]
  },
  {
   "cell_type": "code",
   "execution_count": null,
   "metadata": {},
   "outputs": [],
   "source": [
    "using Random\n",
    "\n",
    "random_license_plate() = String(rand('0':'9',3)) * \" \" * String(rand('A':'Z',3))\n",
    "\n",
    "function prepare_data(;N = 10^7)\n",
    "    Random.seed!(1)\n",
    "    indexes = rand(1:10^12, N)\n",
    "    plates = [random_license_plate() for _ in 1:N]\n",
    "\n",
    "    #One specific spot is set to a special value.\n",
    "    special_spot = Int(floor(0.9*N)) #Arbitrary index\n",
    "    indexes[special_spot], plates[special_spot] = 1234567890, \"000 ZZZ\"\n",
    "    \n",
    "    return indexes, plates\n",
    "end\n",
    "\n",
    "function prepare_sorted_data(;N = 10^7)\n",
    "    indexes, plates = prepare_data(N=N)  \n",
    "    perm = sortperm(indexes)\n",
    "    return indexes[perm], plates[perm]\n",
    "end\n",
    "\n",
    "indexes, plates = prepare_sorted_data(N=5) #as an example set N=5\n",
    "@show indexes\n",
    "@show plates;\n",
    "\n",
    "using BenchmarkTools\n",
    "\n",
    "function find_special_plate(indexes, plates; special_index = 1234567890)\n",
    "    for (i, index) in enumerate(indexes) \n",
    "        if index == special_index \n",
    "            return plates[i]\n",
    "        end\n",
    "    end \n",
    "    throw(Error(\"Index not found\"))\n",
    "end\n",
    "\n",
    "indexes, plates = prepare_sorted_data()\n",
    "\n",
    "@btime find_special_plate(indexes, plates)"
   ]
  },
  {
   "cell_type": "markdown",
   "metadata": {},
   "source": [
    "## 7a:"
   ]
  },
  {
   "cell_type": "markdown",
   "metadata": {},
   "source": [
    "The function random_license_plate() makes use of Julia's ability to define a function in one line. This is useful for simple functions as it can shorten the syntax as it avoids writing function, end and return. "
   ]
  },
  {
   "cell_type": "code",
   "execution_count": 1,
   "metadata": {},
   "outputs": [
    {
     "data": {
      "text/plain": [
       "9"
      ]
     },
     "execution_count": 1,
     "metadata": {},
     "output_type": "execute_result"
    }
   ],
   "source": [
    "f(x)=x^2\n",
    "f(3)"
   ]
  },
  {
   "cell_type": "markdown",
   "metadata": {},
   "source": [
    "\n",
    "The strings were concatenated using the * operator which takes two strings and concatenates them into one. In Julia * was used for concatenation rather than + as string concatenation is a noncommutative operation.\n"
   ]
  },
  {
   "cell_type": "code",
   "execution_count": 2,
   "metadata": {},
   "outputs": [
    {
     "data": {
      "text/plain": [
       "\"Lucy Carra Schulz\""
      ]
     },
     "execution_count": 2,
     "metadata": {},
     "output_type": "execute_result"
    }
   ],
   "source": [
    "first = \"Lucy\"\n",
    "second = \"Carra Schulz\"\n",
    "full = first*\" \"*second"
   ]
  },
  {
   "cell_type": "markdown",
   "metadata": {},
   "source": [
    "\n",
    "The rand() function was used to generate the random digits and letters. The function takes an indexable collection, in this case '0':'9' and 'A':'Z', and a size (either a single argument for values or a tuple for dimensions) to randomize, in the case 3. The complexity of rand() is linear.\n",
    "\n"
   ]
  },
  {
   "cell_type": "code",
   "execution_count": 5,
   "metadata": {},
   "outputs": [
    {
     "data": {
      "text/plain": [
       "\"226\""
      ]
     },
     "execution_count": 5,
     "metadata": {},
     "output_type": "execute_result"
    }
   ],
   "source": [
    "x = String(rand('0':'9',3))"
   ]
  },
  {
   "cell_type": "markdown",
   "metadata": {},
   "source": [
    "The line “plates = [random_license_plate() for _ in 1:N]” makes an array of N random license plates by calling random_license_plate() N times. The code makes use of the bare underscore which is used when a variable must be defined but is never used.\n",
    "    \n"
   ]
  },
  {
   "cell_type": "code",
   "execution_count": 7,
   "metadata": {},
   "outputs": [
    {
     "name": "stdout",
     "output_type": "stream",
     "text": [
      "1\n",
      "1\n",
      "1\n",
      "1\n",
      "1\n"
     ]
    }
   ],
   "source": [
    "for _ in 1:5\n",
    "    println(1)\n",
    "end"
   ]
  },
  {
   "cell_type": "markdown",
   "metadata": {},
   "source": [
    "The function prepare_sorted_data returns a tuple separated by a comma which allows one function to return two values.\n",
    "    \n"
   ]
  },
  {
   "cell_type": "code",
   "execution_count": 15,
   "metadata": {},
   "outputs": [
    {
     "name": "stdout",
     "output_type": "stream",
     "text": [
      "x = 3\n"
     ]
    },
    {
     "data": {
      "text/plain": [
       "7"
      ]
     },
     "execution_count": 15,
     "metadata": {},
     "output_type": "execute_result"
    }
   ],
   "source": [
    "function coordinate()\n",
    "    return rand(0:9,1)[1], rand(0:9,1)[1]\n",
    "end\n",
    "\n",
    "x, y = coordinate()\n",
    "@show x\n",
    "@show y"
   ]
  },
  {
   "cell_type": "markdown",
   "metadata": {},
   "source": [
    "The function sortperm() returns a vector of indexes that would sort the given vector. This allows the plates and indexes to be sorted according to the order of indexes."
   ]
  },
  {
   "cell_type": "code",
   "execution_count": null,
   "metadata": {},
   "outputs": [],
   "source": []
  },
  {
   "cell_type": "markdown",
   "metadata": {},
   "source": [
    "## 7b:"
   ]
  },
  {
   "cell_type": "markdown",
   "metadata": {},
   "source": [
    "This code assigns $10^7$ license plates a random index between $0$ and $10^{12}$. The probability of one of the number $10^7$ number plates being assigned index $1234567890$ is $1-(\\frac{10^{12}-1}{10^{12}})^{10^7} \\approx 1^{-6}$. "
   ]
  },
  {
   "cell_type": "markdown",
   "metadata": {},
   "source": [
    "The @btime macro from the BenchmarkTools package prints the minimum time and memory allocation before returning the output of the function. For the find_special_plate function the output is 3.671 μs (0 allocations: 0 bytes) \"000 ZZZ\". "
   ]
  },
  {
   "cell_type": "markdown",
   "metadata": {},
   "source": [
    "The package has 306 commits. The most commented on issue from the repo is \"stop printing \"humanized\" time units #125\". This issue points out that benchmark puts the output of its macros in ms, μs or ns depending on the output. This makes comparing times hard and confusing. "
   ]
  },
  {
   "cell_type": "markdown",
   "metadata": {},
   "source": [
    "    On Slack today, some timings were posted:\n",
    "\n",
    "    julia> @btime sum(a) > 0\n",
    "      26.323 μs (1 allocation: 16 bytes)\n",
    "    false\n",
    "\n",
    "    julia> @btime any(a .> 0)\n",
    "      116.147 μs (5 allocations: 16.64 KiB)\n",
    "    true\n",
    "\n",
    "    julia> @btime any(!iszero, a)\n",
    "      178.574 ns (0 allocations: 0 bytes)\n",
    "    true\n",
    "    The entire ensuing conversation was predicated on the fact that any(!iszero, a) was mysteriously slower than both sum(a) > 0 and any(a .> 0). Nobody noticed that the last time measurement is in nanoseconds while the first two are in microseconds. I've seen this happen quite often. It's happened to me. The reason I knew to be alert to this is because I've missed the very subtle difference between \"ms\", \"μs\" and \"ns\" before. Moreover, this doesn't match how Base prints times anymore:\n",
    "\n",
    "    julia> @time sleep(1)\n",
    "      1.047126 seconds (114.42 k allocations: 6.038 MiB, 0.90% gc time)\n",
    "\n",
    "    julia> @time sleep(0.001)\n",
    "      0.006039 seconds (82 allocations: 5.375 KiB)\n",
    "    In fact, Base's time printing was changed for the exact same reason! I propose that we choose one of the following ways to print times instead:\n",
    "\n",
    "      0.000026323 seconds (1 allocation: 16 bytes)\n",
    "      0.000116147 seconds (5 allocations: 16.64 KiB)\n",
    "      0.000000179 seconds (0 allocations: 0 bytes)\n",
    "    In other words, with a fixed 9 decimal digits and room for up to three leading digits. That's plenty of digits and it's very clear what scale values are on. If the values must be scaled somehow, then consider using engineering notation instead, so something like this:\n",
    "\n",
    "      26.323e-6 seconds (1 allocation: 16 bytes)\n",
    "    116.147e-6 seconds (5 allocations: 16.64 KiB)\n",
    "    179.000e-9 seconds (0 allocations: 0 bytes)\n",
    "    But note that this is not much shorter and far less clear than just printing 9 digits after the decimal."
   ]
  },
  {
   "cell_type": "markdown",
   "metadata": {},
   "source": [
    "The @benchmark macro takes 10000 samples and returns the range, mean and median of the time as well as a histogram, as opposed to the @btime macro which just returns the minimum time."
   ]
  },
  {
   "cell_type": "markdown",
   "metadata": {},
   "source": [
    "## 7c:"
   ]
  },
  {
   "cell_type": "code",
   "execution_count": 2,
   "metadata": {},
   "outputs": [
    {
     "data": {
      "text/plain": [
       "BenchmarkTools.Trial: 10000 samples with 930 evaluations.\n",
       " Range \u001b[90m(\u001b[39m\u001b[36m\u001b[1mmin\u001b[22m\u001b[39m … \u001b[35mmax\u001b[39m\u001b[90m):  \u001b[39m\u001b[36m\u001b[1m108.871 ns\u001b[22m\u001b[39m … \u001b[35m  8.124 μs\u001b[39m  \u001b[90m┊\u001b[39m GC \u001b[90m(\u001b[39mmin … max\u001b[90m): \u001b[39m0.00% … 0.00%\n",
       " Time  \u001b[90m(\u001b[39m\u001b[34m\u001b[1mmedian\u001b[22m\u001b[39m\u001b[90m):     \u001b[39m\u001b[34m\u001b[1m114.919 ns               \u001b[22m\u001b[39m\u001b[90m┊\u001b[39m GC \u001b[90m(\u001b[39mmedian\u001b[90m):    \u001b[39m0.00%\n",
       " Time  \u001b[90m(\u001b[39m\u001b[32m\u001b[1mmean\u001b[22m\u001b[39m ± \u001b[32mσ\u001b[39m\u001b[90m):   \u001b[39m\u001b[32m\u001b[1m120.813 ns\u001b[22m\u001b[39m ± \u001b[32m117.423 ns\u001b[39m  \u001b[90m┊\u001b[39m GC \u001b[90m(\u001b[39mmean ± σ\u001b[90m):  \u001b[39m0.00% ± 0.00%\n",
       "\n",
       "  \u001b[39m \u001b[39m▃\u001b[39m \u001b[39m \u001b[39m \u001b[39m \u001b[39m▅\u001b[39m█\u001b[34m \u001b[39m\u001b[39m \u001b[39m \u001b[39m \u001b[39m \u001b[39m \u001b[39m \u001b[39m \u001b[32m \u001b[39m\u001b[39m \u001b[39m \u001b[39m \u001b[39m \u001b[39m \u001b[39m \u001b[39m \u001b[39m \u001b[39m \u001b[39m \u001b[39m \u001b[39m \u001b[39m \u001b[39m \u001b[39m \u001b[39m \u001b[39m \u001b[39m \u001b[39m \u001b[39m \u001b[39m \u001b[39m \u001b[39m \u001b[39m \u001b[39m \u001b[39m \u001b[39m \u001b[39m \u001b[39m \u001b[39m \u001b[39m \u001b[39m \u001b[39m \u001b[39m \u001b[39m \u001b[39m \u001b[39m \u001b[39m \u001b[39m \u001b[39m \u001b[39m \u001b[39m \u001b[39m \u001b[39m \u001b[39m \u001b[39m \n",
       "  \u001b[39m▂\u001b[39m█\u001b[39m▄\u001b[39m▆\u001b[39m▆\u001b[39m▆\u001b[39m█\u001b[39m█\u001b[34m█\u001b[39m\u001b[39m▆\u001b[39m▆\u001b[39m█\u001b[39m█\u001b[39m▆\u001b[39m▄\u001b[39m▄\u001b[32m▄\u001b[39m\u001b[39m▄\u001b[39m▄\u001b[39m▄\u001b[39m▃\u001b[39m▃\u001b[39m▃\u001b[39m▃\u001b[39m▃\u001b[39m▂\u001b[39m▂\u001b[39m▂\u001b[39m▂\u001b[39m▂\u001b[39m▂\u001b[39m▂\u001b[39m▂\u001b[39m▂\u001b[39m▂\u001b[39m▂\u001b[39m▂\u001b[39m▂\u001b[39m▂\u001b[39m▂\u001b[39m▂\u001b[39m▂\u001b[39m▂\u001b[39m▂\u001b[39m▂\u001b[39m▂\u001b[39m▂\u001b[39m▂\u001b[39m▂\u001b[39m▂\u001b[39m▂\u001b[39m▂\u001b[39m▂\u001b[39m▂\u001b[39m▂\u001b[39m▂\u001b[39m▂\u001b[39m▂\u001b[39m▁\u001b[39m▂\u001b[39m▂\u001b[39m \u001b[39m▃\n",
       "  109 ns\u001b[90m           Histogram: frequency by time\u001b[39m          154 ns \u001b[0m\u001b[1m<\u001b[22m\n",
       "\n",
       " Memory estimate\u001b[90m: \u001b[39m\u001b[33m16 bytes\u001b[39m, allocs estimate\u001b[90m: \u001b[39m\u001b[33m1\u001b[39m."
      ]
     },
     "metadata": {},
     "output_type": "display_data"
    }
   ],
   "source": [
    "# BROKEN!!!!!!!!!!!!!!!!!!!!!!!!!!!!!!!!!!!!!!!!!!!!!!!!!!!!!!!!!!!!!!!!!!!!!!!!!!!!!!!!!!!!!!!!\n",
    "\n",
    "using Random\n",
    "\n",
    "random_license_plate() = String(rand('0':'9',3)) * \" \" * String(rand('A':'Z',3))\n",
    "\n",
    "function prepare_data(;N = 10^7)\n",
    "    Random.seed!(1)\n",
    "    indexes = rand(1:10^12, N)\n",
    "    plates = [random_license_plate() for _ in 1:N]\n",
    "\n",
    "    #One specific spot is set to a special value.\n",
    "    special_spot = Int(floor(0.9*N)) #Arbitrary index\n",
    "    indexes[special_spot], plates[special_spot] = 1234567890, \"000 ZZZ\"\n",
    "    \n",
    "    return indexes, plates\n",
    "end\n",
    "\n",
    "function prepare_sorted_data(;N = 10^7)\n",
    "    indexes, plates = prepare_data(N=N)  \n",
    "    perm = sortperm(indexes)\n",
    "    return indexes[perm], plates[perm]\n",
    "end\n",
    "\n",
    "\n",
    "\n",
    "using BenchmarkTools\n",
    "\n",
    "function find_special_plate(indexes, plates; special_index = 1234567890)\n",
    "    L = 0\n",
    "    R = length(plates)-1\n",
    "    while L <= R\n",
    "        m =(L+R)÷2\n",
    "        if indexes[m] < special_index\n",
    "            L=m+1\n",
    "        end\n",
    "        if indexes[m] > special_index\n",
    "            R=m-1\n",
    "        end\n",
    "        if indexes[m] == special_index\n",
    "            return m\n",
    "        end\n",
    "    end \n",
    "    throw(Error(\"Index not found\"))\n",
    "end\n",
    "\n",
    "indexes, plates = prepare_sorted_data()\n",
    "\n",
    "@benchmark find_special_plate(indexes, plates)\n"
   ]
  },
  {
   "cell_type": "markdown",
   "metadata": {},
   "source": [
    "## 7d:"
   ]
  },
  {
   "cell_type": "markdown",
   "metadata": {},
   "source": [
    "Searching via binary search in a sorted array is normally $O(log(n))$ time complexity because the searching successively halves the size of the problem whereas the original code was $O(n)$ time comlexity.  "
   ]
  },
  {
   "cell_type": "markdown",
   "metadata": {},
   "source": [
    "# Solution to [Question 8](https://courses.smp.uq.edu.au/MATH2504/2022/assessment_html/bighw.html#q8)"
   ]
  },
  {
   "cell_type": "markdown",
   "metadata": {},
   "source": [
    "## 8a:"
   ]
  },
  {
   "cell_type": "markdown",
   "metadata": {},
   "source": [
    "The code below has been modified to sort by length of last name:"
   ]
  },
  {
   "cell_type": "code",
   "execution_count": 2,
   "metadata": {},
   "outputs": [
    {
     "name": "stdout",
     "output_type": "stream",
     "text": [
      "Sorted by first name:\n",
      "1\tAlistair Falconer\n",
      "2\tAmy Chan\n",
      "3\tAndy Ferris\n",
      "4\tAnna Foeglein\n",
      "5\tElaine Schenk\n",
      "6\tEmma Comino\n",
      "7\tIvana Carrizo-Molina\n",
      "8\tJesse Woods\n",
      "9\tMaithili Mehta\n",
      "10\tPaul Bellette\n",
      "11\tPaul Vrbik\n",
      "12\tSam Hambleton\n",
      "13\tThomas Graham\n",
      "14\tTina Moghaddam\n",
      "15\tTom Cranitch\n",
      "16\tYoni Nazarathy\n",
      "\n"
     ]
    },
    {
     "name": "stdout",
     "output_type": "stream",
     "text": [
      "Sorted by length of last name:\n",
      "1\tAmy Chan\n",
      "2\tMaithili Mehta\n",
      "3\tJesse Woods\n",
      "4\tPaul Vrbik\n",
      "5\tAndy Ferris\n",
      "6\tThomas Graham\n",
      "7\tElaine Schenk\n",
      "8\tEmma Comino\n",
      "9\tAnna Foeglein\n",
      "10\tPaul Bellette\n",
      "11\tTom Cranitch\n",
      "12\tAlistair Falconer\n",
      "13\tTina Moghaddam\n",
      "14\tYoni Nazarathy\n",
      "15\tSam Hambleton\n",
      "16\tIvana Carrizo-Molina\n"
     ]
    }
   ],
   "source": [
    "function array_table(array, heading)\n",
    "    println(heading,\":\")\n",
    "    for (i,a) in enumerate(array)\n",
    "        println(i,\"\\t\",a)\n",
    "    end\n",
    "end\n",
    "\n",
    "names_list = [   \"Amy Chan\",\n",
    "            \"Maithili Mehta\",\n",
    "            \"Anna Foeglein\",\n",
    "            \"Andy Ferris\",\n",
    "            \"Thomas Graham\",\n",
    "            \"Elaine Schenk\",\n",
    "            \"Jesse Woods\",\n",
    "            \"Tina Moghaddam\",\n",
    "            \"Paul Bellette\",\n",
    "            \"Paul Vrbik\",\n",
    "            \"Tom Cranitch\",\n",
    "            \"Yoni Nazarathy\",\n",
    "            \"Sam Hambleton\",\n",
    "            \"Alistair Falconer\",\n",
    "            \"Emma Comino\",\n",
    "            \"Ivana Carrizo-Molina\"]\n",
    "\n",
    "sorted_names = sort(names_list)\n",
    "array_table(sorted_names, \"Sorted by first name\")\n",
    "\n",
    "println()\n",
    "\n",
    "sorted_names = sort(names_list,by=(x)->length(split(x,\" \")[2]))\n",
    "array_table(sorted_names,\"Sorted by length of last name\")"
   ]
  },
  {
   "cell_type": "markdown",
   "metadata": {},
   "source": [
    "## 8b:"
   ]
  },
  {
   "cell_type": "code",
   "execution_count": 14,
   "metadata": {},
   "outputs": [
    {
     "name": "stdout",
     "output_type": "stream",
     "text": [
      "Bubble sorted by last name:\n",
      "1\tPaul Bellette\n",
      "2\tIvana Carrizo-Molina\n",
      "3\tAmy Chan\n",
      "4\tEmma Comino\n",
      "5\tTom Cranitch\n",
      "6\tAlistair Falconer\n",
      "7\tAndy Ferris\n",
      "8\tAnna Foeglein\n",
      "9\tThomas Graham\n",
      "10\tSam Hambleton\n",
      "11\tMaithili Mehta\n",
      "12\tTina Moghaddam\n",
      "13\tYoni Nazarathy\n",
      "14\tElaine Schenk\n",
      "15\tPaul Vrbik\n",
      "16\tJesse Woods\n"
     ]
    }
   ],
   "source": [
    "function sort_bubble(list; by=(x)->x)\n",
    "    for i in 1:length(list)-1\n",
    "        for j in 1:length(list)-i\n",
    "            if by(list[j]) > by(list[j+1])\n",
    "                tmp = list[j]\n",
    "                list[j] = list[j+1]\n",
    "                list[j+1] = tmp\n",
    "            end\n",
    "        end\n",
    "    end\n",
    "    return list\n",
    "end\n",
    "\n",
    "sorted_names = sort_bubble(names_list,by=(x)->reverse(split(x,\" \")))\n",
    "array_table(sorted_names,\"Bubble sorted by last name\")"
   ]
  },
  {
   "cell_type": "markdown",
   "metadata": {},
   "source": [
    "## 8c:"
   ]
  },
  {
   "cell_type": "code",
   "execution_count": 4,
   "metadata": {},
   "outputs": [
    {
     "name": "stdout",
     "output_type": "stream",
     "text": [
      "Quick sorted by last name:\n",
      "1\tPaul Bellette\n",
      "2\tIvana Carrizo-Molina\n",
      "3\tAmy Chan\n",
      "4\tEmma Comino\n",
      "5\tTom Cranitch\n",
      "6\tAlistair Falconer\n",
      "7\tAndy Ferris\n",
      "8\tAnna Foeglein\n",
      "9\tThomas Graham\n",
      "10\tSam Hambleton\n",
      "11\tMaithili Mehta\n",
      "12\tTina Moghaddam\n",
      "13\tYoni Nazarathy\n",
      "14\tElaine Schenk\n",
      "15\tPaul Vrbik\n",
      "16\tJesse Woods\n"
     ]
    }
   ],
   "source": [
    "#first implementation of quicksort, not in place\n",
    "function quick_sort(list;by=(x)->x)\n",
    "    if length(list)<=1\n",
    "        return list\n",
    "    end\n",
    "    pivot = by(list[1]) #The choice of pivot can be optimised but this is sufficient for our purposes\n",
    "    left = [x for x in list[2:end] if by(x)<pivot]\n",
    "    right = [x for x in list[2:end] if by(x)>=pivot]\n",
    "    return(cat(quick_sort(left,by=by),[list[1]],quick_sort(right,by=by),dims=1))\n",
    "end \n",
    "\n",
    "#in place implementation, far more memory efficient\n",
    "function quick_sort_in_place(list,lo=1,hi=length(list);by=(x)->x)\n",
    "    if lo>=hi || lo < 1\n",
    "        return list\n",
    "    end\n",
    "    pivot = by(list[lo])\n",
    "    i = lo+1\n",
    "    for j in lo+1:hi\n",
    "        if by(list[j])<pivot\n",
    "            list[i],list[j] = list[j],list[i]\n",
    "            i += 1\n",
    "        end\n",
    "    end\n",
    "    list[lo],list[i-1] = list[i-1],list[lo]\n",
    "    quick_sort_in_place(list,lo,i-2,by=by)\n",
    "    quick_sort_in_place(list,i,hi,by=by)\n",
    "    return list\n",
    "end\n",
    "\n",
    "sorted_names = quick_sort_in_place(names_list,by=(x)->reverse(split(x,\" \")))\n",
    "array_table(sorted_names,\"Quick sorted by last name\")"
   ]
  },
  {
   "cell_type": "markdown",
   "metadata": {},
   "source": [
    "## 8d:"
   ]
  },
  {
   "cell_type": "code",
   "execution_count": 6,
   "metadata": {},
   "outputs": [
    {
     "name": "stdout",
     "output_type": "stream",
     "text": [
      "system sort\n"
     ]
    },
    {
     "name": "stdout",
     "output_type": "stream",
     "text": [
      "  549.958 μs (2 allocations: 78.17 KiB)\n",
      "quick sort\n"
     ]
    },
    {
     "name": "stdout",
     "output_type": "stream",
     "text": [
      "  38.908 ms (0 allocations: 0 bytes)\n"
     ]
    }
   ],
   "source": [
    "using BenchmarkTools\n",
    "function test(n)\n",
    "    data = rand(Int,n)\n",
    "    println(\"system sort\")\n",
    "    @btime sort($data)\n",
    "    println(\"quick sort\")\n",
    "    @btime quick_sort_in_place($data)\n",
    "    return nothing\n",
    "end\n",
    "\n",
    "test(10^4) #larger values take a long time to run because btime takes multiple samples\n"
   ]
  },
  {
   "cell_type": "markdown",
   "metadata": {},
   "source": [
    "Bubble sort has $O(n^2)$ time complexity, which means that the running time tends to grow quadratically with the size of the input. We can test with some smaller values and fit a quadratic:\n",
    "\n",
    "![](bubble_sort.png)\n",
    "\n",
    "Extrapolating this trend gives an estimated running time of 8.5 minutes for $10^6$ items, and 1400 hours for $10^8$ items, which is unreasonable to run.\n",
    "\n",
    "We can however run trials for quick sort and the system sort. I obtained the following results:\n",
    "\n",
    "$10^6$ items:\n",
    "\n",
    " - System sort = 89.285 ms\n",
    " - Quick sort = 132.084 ms\n",
    "\n",
    "$10^7$ items:\n",
    "\n",
    " - System sort = 1.050 s\n",
    " - Quick sort = 2.107 s\n",
    "\n",
    "$10^8$ items:\n",
    "\n",
    " - System sort = 12.082 s\n",
    " - Quick sort = 33.362 s"
   ]
  },
  {
   "cell_type": "markdown",
   "metadata": {},
   "source": [
    "# Solution to [Question 9](https://courses.smp.uq.edu.au/MATH2504/2022/assessment_html/bighw.html#q9)"
   ]
  },
  {
   "cell_type": "code",
   "execution_count": null,
   "metadata": {},
   "outputs": [],
   "source": [
    "using LinearAlgebra\n",
    "using Random\n",
    "\n",
    "function my_mult_inner_products(A,B)\n",
    "    nA,mA = size(A)\n",
    "    nB,mB = size(B)\n",
    "    mA == nB\n",
    "    n, m, p = nA, mA, mB\n",
    "    C = Array{Float64}(undef,n,p)\n",
    "\n",
    "    for i in 1:n\n",
    "        for j in 1:p\n",
    "            C[i,j] = A[i,:]' * B[:,j] #compute inner product of i'th row of A and j'th column of B\n",
    "        end\n",
    "    end\n",
    "    return C\n",
    "end\n",
    "\n",
    "Random.seed!(0)\n",
    "A = round.(10*rand(2,3))\n",
    "B = round.(10*rand(3,4))\n",
    "my_mult_inner_products(A,B)"
   ]
  },
  {
   "cell_type": "markdown",
   "metadata": {},
   "source": [
    "## 9a:"
   ]
  },
  {
   "cell_type": "code",
   "execution_count": 17,
   "metadata": {},
   "outputs": [],
   "source": [
    "using LinearAlgebra\n",
    "using Random\n",
    "\n",
    "function my_mult_by_cols(A,B)\n",
    "    nA,mA = size(A)\n",
    "    nB,mB = size(B)\n",
    "    @assert mA == nB\n",
    "    n, m, p = nA, mA, mB\n",
    "    C = Array{Float64}(undef,n,p)\n",
    "\n",
    "    for j in 1:p #4 columns\n",
    "        # C[:,j]=Array{Float64}(undef,n,1)\n",
    "        for q in 1:m\n",
    "            C[:,j] += A[:,q]*B[q,j]\n",
    "        end\n",
    "    end\n",
    "    return C\n",
    "end\n",
    "\n",
    "Random.seed!(0)\n",
    "A = round.(10*rand(2,3))\n",
    "B = round.(10*rand(3,4))\n",
    "my_mult_by_cols(A,B)"
   ]
  },
  {
   "cell_type": "markdown",
   "metadata": {},
   "source": [
    "## 9b:"
   ]
  },
  {
   "cell_type": "code",
   "execution_count": 18,
   "metadata": {},
   "outputs": [],
   "source": [
    "using LinearAlgebra\n",
    "using Random\n",
    "\n",
    "function my_mult_by_rows(A,B)\n",
    "    nA,mA = size(A)\n",
    "    nB,mB = size(B)\n",
    "    @assert mA == nB\n",
    "    n, m, p = nA, mA, mB\n",
    "    C = Array{Float64}(undef,n,p)\n",
    "\n",
    "    for i in 1:n #2 rows\n",
    "        C[i,:]=Array{Float64}(undef,1,p)\n",
    "        for q in 1:m\n",
    "            C[i,:] +=B[q,:]*A[i,q]\n",
    "        end\n",
    "    end\n",
    "    return C\n",
    "end\n",
    "\n",
    "Random.seed!(0)\n",
    "A = round.(10*rand(2,3))\n",
    "B = round.(10*rand(3,4))\n",
    "my_mult_by_rows(A,B)"
   ]
  },
  {
   "cell_type": "markdown",
   "metadata": {},
   "source": [
    "## 9c:"
   ]
  },
  {
   "cell_type": "code",
   "execution_count": 19,
   "metadata": {},
   "outputs": [],
   "source": [
    "using LinearAlgebra\n",
    "using Random\n",
    "\n",
    "function my_mult_sum_outer_products(A,B)\n",
    "    nA,mA = size(A)\n",
    "    nB,mB = size(B)\n",
    "    @assert mA == nB\n",
    "    n, m, p = nA, mA, mB\n",
    "    C = Array{Float64}(undef,n,p)\n",
    "\n",
    "    for q in 1:m #2 rows\n",
    "        C += A[:,q]*B[q,:]'\n",
    "    end\n",
    "    return C\n",
    "end\n",
    "\n",
    "Random.seed!(0)\n",
    "A = round.(10*rand(2,3))\n",
    "B = round.(10*rand(3,4))\n",
    "my_mult_sum_outer_products(A, B)"
   ]
  },
  {
   "cell_type": "markdown",
   "metadata": {},
   "source": [
    "## 9d:\n"
   ]
  },
  {
   "cell_type": "markdown",
   "metadata": {},
   "source": [
    "Both the original code, 9a and 9b use a nested loop. 9c only uses a single loop however it still has the same time complexity because the matrix multiplication has a hidden loop."
   ]
  }
 ],
 "metadata": {
  "kernelspec": {
   "display_name": "Julia 1.7.3",
   "language": "julia",
   "name": "julia-1.7"
  },
  "language_info": {
   "file_extension": ".jl",
   "mimetype": "application/julia",
   "name": "julia",
   "version": "1.7.3"
  }
 },
 "nbformat": 4,
 "nbformat_minor": 4
}
