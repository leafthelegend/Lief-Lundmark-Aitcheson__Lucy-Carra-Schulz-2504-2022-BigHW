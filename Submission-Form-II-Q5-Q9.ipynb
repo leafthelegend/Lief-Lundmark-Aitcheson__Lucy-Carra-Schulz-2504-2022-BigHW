{
 "cells": [
  {
   "cell_type": "markdown",
   "metadata": {},
   "source": [
    "### MATH2504 S2, 2022, BigHW Submission \n",
    "### Submission form II of IV "
   ]
  },
  {
   "cell_type": "markdown",
   "metadata": {},
   "source": [
    "Student #1 name: Lief\n",
    "\n",
    "Student #1 ID:\n",
    "\n",
    "Student #2 name: Lucy Carra Schulz \n",
    "\n",
    "Student #2 ID: 47020674\n",
    "\n",
    "GitHub repo: "
   ]
  },
  {
   "cell_type": "markdown",
   "metadata": {},
   "source": [
    "---\n",
    "\n",
    "**Note: It is expected that this notebook be runnable in the sense that the marker can select \"Restart & Run All\" and all code cells of solutions will execute. This requires not to have name clashes between solutions.**\n",
    "\n",
    "---"
   ]
  },
  {
   "cell_type": "markdown",
   "metadata": {},
   "source": [
    "# Solution to [Question 5](https://courses.smp.uq.edu.au/MATH2504/2022/assessment_html/bighw.html#q5)"
   ]
  },
  {
   "cell_type": "code",
   "execution_count": null,
   "metadata": {},
   "outputs": [
    {
     "name": "stdout",
     "output_type": "stream",
     "text": [
      "The first 5 perfect numbers are [1, 6, 28, 496, 8128]"
     ]
    }
   ],
   "source": [
    "function get_factors(n)\n",
    "    factors = [1]\n",
    "    for i in 2:floor(sqrt(n))\n",
    "        if n % i == 0\n",
    "            push!(factors, i, n / i)\n",
    "        end\n",
    "    end\n",
    "    return factors\n",
    "end\n",
    "\n",
    "perfects = [i for i in 1:10^6 if sum(get_factors(i))==i]\n",
    "\n",
    "print(\"The first $(length(perfects)) perfect numbers are $(perfects)\")"
   ]
  },
  {
   "cell_type": "markdown",
   "metadata": {},
   "source": [
    "# Solution to [Question 6](https://courses.smp.uq.edu.au/MATH2504/2022/assessment_html/bighw.html#q6)"
   ]
  },
  {
   "cell_type": "code",
   "execution_count": null,
   "metadata": {},
   "outputs": [],
   "source": [
    "function sieve_of_Eratosthenes(n)\n",
    "    primebits = ones(Bool,n) #Will contain true if the index is prime (initially all assumed prime)\n",
    "    primebits[1] = false #The number 1 is not prime\n",
    "    p = 2 #Smallest prime\n",
    "    while p ≤ n\n",
    "        i = 2p\n",
    "        while i ≤ n  # \\le +[TAB]\n",
    "            primebits[i] = false\n",
    "            i += p\n",
    "        end\n",
    "        p += 1\n",
    "        while p ≤ n && !primebits[p]\n",
    "            p += 1\n",
    "        end\n",
    "    end\n",
    "    (1:n)[primebits]\n",
    "end"
   ]
  },
  {
   "cell_type": "code",
   "execution_count": null,
   "metadata": {},
   "outputs": [],
   "source": [
    "using Plots\n",
    "using StatsBase\n",
    "using Profile\n",
    "using ProfileView\n",
    "\n",
    "function sieve_of_Eratosthenes(n)\n",
    "    primebits = ones(Bool,n) #Will contain true if the index is prime (initially all assumed prime)\n",
    "    primebits[1] = false #The number 1 is not prime\n",
    "    p = 2 #Smallest prime\n",
    "    while p ≤ n\n",
    "        i = 2p\n",
    "        while i ≤ n  # \\le +[TAB]\n",
    "            primebits[i] = false\n",
    "            i += p\n",
    "        end\n",
    "        p += 1\n",
    "        while p ≤ n && !primebits[p]\n",
    "            p += 1\n",
    "        end\n",
    "    end\n",
    "    (1:n)[primebits]\n",
    "end\n",
    "\n",
    "function check_Goldbach(n::Int64,primes::Array{Int64})\n",
    "    @assert iseven(n)\n",
    "    num_pairs = 0\n",
    "    for p in primes\n",
    "        if p > n\n",
    "            break\n",
    "        end\n",
    "        if insorted(n-p,primes)\n",
    "            num_pairs += 1\n",
    "        end\n",
    "    end\n",
    "    return num_pairs\n",
    "end\n",
    "\n",
    "function run(n::Int64)\n",
    "    even_range = 4:2:n\n",
    "    primes ::Vector{Int64} = sieve_of_Eratosthenes(n)\n",
    "    checks = zeros(Int64,length(even_range))\n",
    "    Threads.@threads for (i, m) in collect(enumerate(even_range))\n",
    "        checks[i]=check_Goldbach(m,primes)\n",
    "    end\n",
    "    # checks = [check_Goldbach(m, primes) for m in even_range]\n",
    "    if 0 ∈ checks\n",
    "        println(\"Found a counter example for Goldbach\")\n",
    "    end\n",
    "    x = sample(even_range,min(2*10^4,n÷3),replace = false)\n",
    "    y = checks[(-1 .+ x.÷2)]\n",
    "    scatter(x,y,legend=false,xlabel=\"n\",ylabel=\"Number of Goldbach pairs\")\n",
    "    png(\"scatter.png\")\n",
    "    return nothing\n",
    "end\n",
    "\n",
    "# @time ProfileView.@profview run(10^6) #This will take a long time to run"
   ]
  },
  {
   "cell_type": "markdown",
   "metadata": {},
   "source": [
    "![](scatter_10^6.png)"
   ]
  },
  {
   "cell_type": "markdown",
   "metadata": {},
   "source": [
    "# Solution to [Question 7](https://courses.smp.uq.edu.au/MATH2504/2022/assessment_html/bighw.html#q7)"
   ]
  },
  {
   "cell_type": "code",
   "execution_count": null,
   "metadata": {},
   "outputs": [],
   "source": [
    "using Random\n",
    "\n",
    "random_license_plate() = String(rand('0':'9',3)) * \" \" * String(rand('A':'Z',3))\n",
    "\n",
    "function prepare_data(;N = 10^7)\n",
    "    Random.seed!(1)\n",
    "    indexes = rand(1:10^12, N)\n",
    "    plates = [random_license_plate() for _ in 1:N]\n",
    "\n",
    "    #One specific spot is set to a special value.\n",
    "    special_spot = Int(floor(0.9*N)) #Arbitrary index\n",
    "    indexes[special_spot], plates[special_spot] = 1234567890, \"000 ZZZ\"\n",
    "    \n",
    "    return indexes, plates\n",
    "end\n",
    "\n",
    "function prepare_sorted_data(;N = 10^7)\n",
    "    indexes, plates = prepare_data(N=N)  \n",
    "    perm = sortperm(indexes)\n",
    "    return indexes[perm], plates[perm]\n",
    "end\n",
    "\n",
    "indexes, plates = prepare_sorted_data(N=5) #as an example set N=5\n",
    "@show indexes\n",
    "@show plates;\n",
    "\n",
    "using BenchmarkTools\n",
    "\n",
    "function find_special_plate(indexes, plates; special_index = 1234567890)\n",
    "    for (i, index) in enumerate(indexes) \n",
    "        if index == special_index \n",
    "            return plates[i]\n",
    "        end\n",
    "    end \n",
    "    throw(Error(\"Index not found\"))\n",
    "end\n",
    "\n",
    "indexes, plates = prepare_sorted_data()\n",
    "\n",
    "@btime find_special_plate(indexes, plates)"
   ]
  },
  {
   "cell_type": "markdown",
   "metadata": {},
   "source": [
    "## 7a:"
   ]
  },
  {
   "cell_type": "markdown",
   "metadata": {},
   "source": [
    "The function random_license_plate() makes use of Julia's ability to define a function in one line. This is useful for simple functions as it can shorten the syntax as it avoids writing function, end and return. "
   ]
  },
  {
   "cell_type": "code",
   "execution_count": 1,
   "metadata": {},
   "outputs": [
    {
     "data": {
      "text/plain": [
       "9"
      ]
     },
     "execution_count": 1,
     "metadata": {},
     "output_type": "execute_result"
    }
   ],
   "source": [
    "f(x)=x^2\n",
    "f(3)"
   ]
  },
  {
   "cell_type": "markdown",
   "metadata": {},
   "source": [
    "\n",
    "The strings were concatenated using the * operator which takes two strings and concatenates them into one. In Julia * was used for concatenation rather than + as string concatenation is a noncommutative operation.\n"
   ]
  },
  {
   "cell_type": "code",
   "execution_count": 2,
   "metadata": {},
   "outputs": [
    {
     "data": {
      "text/plain": [
       "\"Lucy Carra Schulz\""
      ]
     },
     "execution_count": 2,
     "metadata": {},
     "output_type": "execute_result"
    }
   ],
   "source": [
    "first = \"Lucy\"\n",
    "second = \"Carra Schulz\"\n",
    "full = first*\" \"*second"
   ]
  },
  {
   "cell_type": "markdown",
   "metadata": {},
   "source": [
    "\n",
    "The rand() function was used to generate the random digits and letters. The function takes an indexable collection, in this case '0':'9' and 'A':'Z', and a size (either a single argument for values or a tuple for dimensions) to randomize, in the case 3. The complexity of rand() is linear.\n",
    "\n"
   ]
  },
  {
   "cell_type": "code",
   "execution_count": 5,
   "metadata": {},
   "outputs": [
    {
     "data": {
      "text/plain": [
       "\"226\""
      ]
     },
     "execution_count": 5,
     "metadata": {},
     "output_type": "execute_result"
    }
   ],
   "source": [
    "x = String(rand('0':'9',3))"
   ]
  },
  {
   "cell_type": "markdown",
   "metadata": {},
   "source": [
    "The line “plates = [random_license_plate() for _ in 1:N]” makes an array of N random license plates by calling random_license_plate() N times. The code makes use of the bare underscore which is used when a variable must be defined but is never used.\n",
    "    \n"
   ]
  },
  {
   "cell_type": "code",
   "execution_count": 7,
   "metadata": {},
   "outputs": [
    {
     "name": "stdout",
     "output_type": "stream",
     "text": [
      "1\n",
      "1\n",
      "1\n",
      "1\n",
      "1\n"
     ]
    }
   ],
   "source": [
    "for _ in 1:5\n",
    "    println(1)\n",
    "end"
   ]
  },
  {
   "cell_type": "markdown",
   "metadata": {},
   "source": [
    "The function prepare_sorted_data returns a tuple separated by a comma which allows one function to return two values.\n",
    "    \n"
   ]
  },
  {
   "cell_type": "code",
   "execution_count": 15,
   "metadata": {},
   "outputs": [
    {
     "name": "stdout",
     "output_type": "stream",
     "text": [
      "x = 3\n"
     ]
    },
    {
     "data": {
      "text/plain": [
       "7"
      ]
     },
     "execution_count": 15,
     "metadata": {},
     "output_type": "execute_result"
    }
   ],
   "source": [
    "function coordinate()\n",
    "    return rand(0:9,1)[1], rand(0:9,1)[1]\n",
    "end\n",
    "\n",
    "x, y = coordinate()\n",
    "@show x\n",
    "@show y"
   ]
  },
  {
   "cell_type": "markdown",
   "metadata": {},
   "source": [
    "The function sortperm() returns a vector of indexes that would sort the given vector. This allows the plates and indexes to be sorted according to the order of indexes."
   ]
  },
  {
   "cell_type": "code",
   "execution_count": null,
   "metadata": {},
   "outputs": [],
   "source": []
  },
  {
   "cell_type": "markdown",
   "metadata": {},
   "source": [
    "## 7b:"
   ]
  },
  {
   "cell_type": "markdown",
   "metadata": {},
   "source": [
    "This code assigns $10^7$ license plates a random index between $0$ and $10^{12}$. The probability of one of the number $10^7$ number plates being assigned index $1234567890$ is $1-(\\frac{10^{12}-1}{10^{12}})^{10^7} \\approx 1^{-6}$. "
   ]
  },
  {
   "cell_type": "markdown",
   "metadata": {},
   "source": [
    "The @btime macro from the BenchmarkTools package prints the minimum time and memory allocation before returning the output of the function. For the find_special_plate function the output is 3.671 μs (0 allocations: 0 bytes) \"000 ZZZ\". "
   ]
  },
  {
   "cell_type": "markdown",
   "metadata": {},
   "source": [
    "The package has 306 commits. The most commented on issue from the repo is \"stop printing \"humanized\" time units #125\". This issue points out that benchmark puts the output of its macros in ms, μs or ns depending on the output. This makes comparing times hard and confusing. "
   ]
  },
  {
   "cell_type": "markdown",
   "metadata": {},
   "source": [
    "    On Slack today, some timings were posted:\n",
    "\n",
    "    julia> @btime sum(a) > 0\n",
    "      26.323 μs (1 allocation: 16 bytes)\n",
    "    false\n",
    "\n",
    "    julia> @btime any(a .> 0)\n",
    "      116.147 μs (5 allocations: 16.64 KiB)\n",
    "    true\n",
    "\n",
    "    julia> @btime any(!iszero, a)\n",
    "      178.574 ns (0 allocations: 0 bytes)\n",
    "    true\n",
    "    The entire ensuing conversation was predicated on the fact that any(!iszero, a) was mysteriously slower than both sum(a) > 0 and any(a .> 0). Nobody noticed that the last time measurement is in nanoseconds while the first two are in microseconds. I've seen this happen quite often. It's happened to me. The reason I knew to be alert to this is because I've missed the very subtle difference between \"ms\", \"μs\" and \"ns\" before. Moreover, this doesn't match how Base prints times anymore:\n",
    "\n",
    "    julia> @time sleep(1)\n",
    "      1.047126 seconds (114.42 k allocations: 6.038 MiB, 0.90% gc time)\n",
    "\n",
    "    julia> @time sleep(0.001)\n",
    "      0.006039 seconds (82 allocations: 5.375 KiB)\n",
    "    In fact, Base's time printing was changed for the exact same reason! I propose that we choose one of the following ways to print times instead:\n",
    "\n",
    "      0.000026323 seconds (1 allocation: 16 bytes)\n",
    "      0.000116147 seconds (5 allocations: 16.64 KiB)\n",
    "      0.000000179 seconds (0 allocations: 0 bytes)\n",
    "    In other words, with a fixed 9 decimal digits and room for up to three leading digits. That's plenty of digits and it's very clear what scale values are on. If the values must be scaled somehow, then consider using engineering notation instead, so something like this:\n",
    "\n",
    "      26.323e-6 seconds (1 allocation: 16 bytes)\n",
    "    116.147e-6 seconds (5 allocations: 16.64 KiB)\n",
    "    179.000e-9 seconds (0 allocations: 0 bytes)\n",
    "    But note that this is not much shorter and far less clear than just printing 9 digits after the decimal."
   ]
  },
  {
   "cell_type": "markdown",
   "metadata": {},
   "source": [
    "The @benchmark macro takes 10000 samples and returns the range, mean and median of the time as well as a histogram, as opposed to the @btime macro which just returns the minimum time."
   ]
  },
  {
   "cell_type": "markdown",
   "metadata": {},
   "source": [
    "## 7c:"
   ]
  },
  {
   "cell_type": "code",
   "execution_count": 1,
   "metadata": {},
   "outputs": [
    {
     "ename": "LoadError",
     "evalue": "ArgumentError: invalid index: 4.999999e6 of type Float64",
     "output_type": "error",
     "traceback": [
      "ArgumentError: invalid index: 4.999999e6 of type Float64",
      "",
      "Stacktrace:",
      "  [1] to_index(i::Float64)",
      "    @ Base .\\indices.jl:300",
      "  [2] to_index(A::Vector{Int64}, i::Float64)",
      "    @ Base .\\indices.jl:277",
      "  [3] to_indices",
      "    @ .\\indices.jl:333 [inlined]",
      "  [4] to_indices",
      "    @ .\\indices.jl:325 [inlined]",
      "  [5] getindex",
      "    @ .\\abstractarray.jl:1218 [inlined]",
      "  [6] find_special_plate(indexes::Vector{Int64}, plates::Vector{String}; special_index::Int64)",
      "    @ Main .\\In[1]:32",
      "  [7] find_special_plate(indexes::Vector{Int64}, plates::Vector{String})",
      "    @ Main .\\In[1]:28",
      "  [8] top-level scope",
      "    @ In[1]:47",
      "  [9] eval",
      "    @ .\\boot.jl:373 [inlined]",
      " [10] include_string(mapexpr::typeof(REPL.softscope), mod::Module, code::String, filename::String)",
      "    @ Base .\\loading.jl:1196"
     ]
    }
   ],
   "source": [
    "BROKEN!!!!!!!!!!!!!!!!!!!!!!!!!!!!!!!!!!!!!!!!!!!!!!!!!!!!!!!!!!!!!!!!!!!!!!!!!!!!!!!!!!!!!!!!\n",
    "\n",
    "using Random\n",
    "\n",
    "random_license_plate() = String(rand('0':'9',3)) * \" \" * String(rand('A':'Z',3))\n",
    "\n",
    "function prepare_data(;N = 10^7)\n",
    "    Random.seed!(1)\n",
    "    indexes = rand(1:10^12, N)\n",
    "    plates = [random_license_plate() for _ in 1:N]\n",
    "\n",
    "    #One specific spot is set to a special value.\n",
    "    special_spot = Int(floor(0.9*N)) #Arbitrary index\n",
    "    indexes[special_spot], plates[special_spot] = 1234567890, \"000 ZZZ\"\n",
    "    \n",
    "    return indexes, plates\n",
    "end\n",
    "\n",
    "function prepare_sorted_data(;N = 10^7)\n",
    "    indexes, plates = prepare_data(N=N)  \n",
    "    perm = sortperm(indexes)\n",
    "    return indexes[perm], plates[perm]\n",
    "end\n",
    "\n",
    "\n",
    "\n",
    "using BenchmarkTools\n",
    "\n",
    "function find_special_plate(indexes, plates; special_index = 1234567890)\n",
    "    L = 0\n",
    "    R = length(plates)-1\n",
    "    while L <= R\n",
    "        m =floor((L+R)/2)\n",
    "        if indexes[m] < special_index\n",
    "            L=m+1\n",
    "        end\n",
    "        if indexes[m] > special_index\n",
    "            R=m-1\n",
    "        end\n",
    "        if indexes[m] == special_index\n",
    "            return m\n",
    "        end\n",
    "    end \n",
    "    throw(Error(\"Index not found\"))\n",
    "end\n",
    "\n",
    "indexes, plates = prepare_sorted_data()\n",
    "\n",
    "@benchmark find_special_plate(indexes, plates)\n"
   ]
  },
  {
   "cell_type": "markdown",
   "metadata": {},
   "source": [
    "## 7d:"
   ]
  },
  {
   "cell_type": "markdown",
   "metadata": {},
   "source": [
    "Searching via binary search in a sorted array is normally $O(log(n))$ time complexity because the searching successively halves the size of the problem whereas the original code was $O(n)$ time comlexity.  "
   ]
  },
  {
   "cell_type": "markdown",
   "metadata": {},
   "source": [
    "---\n",
    "\n",
    "*Use this area below as an experimental playground for the question. Feel free to leave some of the experimental code here with your submision. However, it will not be marked or reviewed. Make sure in your submission that if there is any experimental code here then running it does not interfere with running the actual solutions.*\n",
    "\n",
    "---"
   ]
  },
  {
   "cell_type": "code",
   "execution_count": null,
   "metadata": {},
   "outputs": [],
   "source": []
  },
  {
   "cell_type": "code",
   "execution_count": null,
   "metadata": {},
   "outputs": [],
   "source": []
  },
  {
   "cell_type": "code",
   "execution_count": null,
   "metadata": {},
   "outputs": [],
   "source": []
  },
  {
   "cell_type": "markdown",
   "metadata": {},
   "source": [
    "# Solution to [Question 8](https://courses.smp.uq.edu.au/MATH2504/2022/assessment_html/bighw.html#q8)"
   ]
  },
  {
   "cell_type": "markdown",
   "metadata": {},
   "source": [
    "## 8a:"
   ]
  },
  {
   "cell_type": "markdown",
   "metadata": {},
   "source": [
    "The code below has been modified to sort by length of last name:"
   ]
  },
  {
   "cell_type": "code",
   "execution_count": null,
   "metadata": {},
   "outputs": [],
   "source": [
    "function array_table(array, heading)\n",
    "    println(heading,\":\")\n",
    "    for (i,a) in enumerate(array)\n",
    "        println(i,\"\\t\",a)\n",
    "    end\n",
    "end\n",
    "\n",
    "names_list = [   \"Amy Chan\",\n",
    "            \"Maithili Mehta\",\n",
    "            \"Anna Foeglein\",\n",
    "            \"Andy Ferris\",\n",
    "            \"Thomas Graham\",\n",
    "            \"Elaine Schenk\",\n",
    "            \"Jesse Woods\",\n",
    "            \"Tina Moghaddam\",\n",
    "            \"Paul Bellette\",\n",
    "            \"Paul Vrbik\",\n",
    "            \"Tom Cranitch\",\n",
    "            \"Yoni Nazarathy\",\n",
    "            \"Sam Hambleton\",\n",
    "            \"Alistair Falconer\",\n",
    "            \"Emma Comino\",\n",
    "            \"Ivana Carrizo-Molina\"]\n",
    "\n",
    "sorted_names = sort(names_list)\n",
    "array_table(sorted_names, \"Sorted by first name\")\n",
    "\n",
    "println()\n",
    "\n",
    "sorted_names = sort(names_list,by=(x)->length(split(x,\" \")[2]))\n",
    "array_table(sorted_names,\"Sorted by length of last name\")"
   ]
  },
  {
   "cell_type": "markdown",
   "metadata": {},
   "source": [
    "## 8b:"
   ]
  },
  {
   "cell_type": "code",
   "execution_count": null,
   "metadata": {},
   "outputs": [],
   "source": [
    "function sort_bubble(list; by=(x)->x)\n",
    "    for i in 1:length(list)-1\n",
    "        for j in 1:length(list)-i\n",
    "            if by(list[j]) > by(list[j+1])\n",
    "                tmp = list[j]\n",
    "                list[j] = list[j+1]\n",
    "                list[j+1] = tmp\n",
    "            end\n",
    "        end\n",
    "    end\n",
    "    return list\n",
    "end\n",
    "\n",
    "sorted_names = sort_bubble(names_list,by=(x)->reverse(split(x,\" \")))\n",
    "array_table(sorted_names,\"Bubble sorted by last name\")"
   ]
  },
  {
   "cell_type": "markdown",
   "metadata": {},
   "source": [
    "## 8c:"
   ]
  },
  {
   "cell_type": "code",
   "execution_count": null,
   "metadata": {},
   "outputs": [],
   "source": [
    "function quick_sort(list;by=(x)->x)\n",
    "    if length(list)<=1\n",
    "        return list\n",
    "    end\n",
    "    pivot = by(list[1]) #The choice of pivot can be optimised but this is sufficient for our purposes\n",
    "    left = [x for x in list[2:end] if by(x)<pivot]\n",
    "    right = [x for x in list[2:end] if by(x)>=pivot]\n",
    "    return(cat(quick_sort(left,by=by),[list[1]],quick_sort(right,by=by),dims=1))\n",
    "end \n",
    "\n",
    "sorted_names = quick_sort(names_list,by=(x)->reverse(split(x,\" \")))\n",
    "array_table(sorted_names,\"Quick sorted by last name\")"
   ]
  },
  {
   "cell_type": "markdown",
   "metadata": {},
   "source": [
    "## 8d:"
   ]
  },
  {
   "cell_type": "code",
   "execution_count": 9,
   "metadata": {},
   "outputs": [
    {
     "name": "stdout",
     "output_type": "stream",
     "text": [
      "system sort\n",
      "  87.664 ms (2 allocations: 7.63 MiB)\n",
      "quick sort\n",
      "  3.571 s (31591612 allocations: 1.97 GiB)\n"
     ]
    }
   ],
   "source": [
    "using BenchmarkTools\n",
    "function test(n)\n",
    "    data = rand(Int,n)\n",
    "    println(\"system sort\")\n",
    "    @btime sort($data)\n",
    "    println(\"quick sort\")\n",
    "    @btime quick_sort($data)\n",
    "    return nothing\n",
    "end\n",
    "\n",
    "test(10^6)\n"
   ]
  },
  {
   "cell_type": "markdown",
   "metadata": {},
   "source": [
    "Bubble sort has $O(n^2)$ time complexity, which means that the running time tends to grow quadratically with the size of the input. We can test with some smaller values and fit a quadratic:\n",
    "\n",
    "![](bubble_sort.png)\n",
    "\n",
    "Extrapolating this trend gives an estimated running time of 8.5 minutes for $10^6$ items, and 1400 hours for $10^8$ items, which is unreasonable to run.\n",
    "\n",
    "We can however run trials for quick sort and the system sort. I obtained the following results:\n",
    "\n",
    "$10^6$ items:\n",
    "\n",
    " - System sort = 89.285 ms\n",
    " - Quick sort = 3.561 s\n",
    "\n",
    "$10^7$ items:\n",
    "\n",
    " - System sort = 1.050 s\n",
    " - Quick sort = 35.680 s"
   ]
  },
  {
   "cell_type": "markdown",
   "metadata": {},
   "source": [
    "# Solution to [Question 9](https://courses.smp.uq.edu.au/MATH2504/2022/assessment_html/bighw.html#q9)"
   ]
  },
  {
   "cell_type": "code",
   "execution_count": null,
   "metadata": {},
   "outputs": [],
   "source": [
    "using LinearAlgebra\n",
    "using Random\n",
    "\n",
    "function my_mult_inner_products(A,B)\n",
    "    nA,mA = size(A)\n",
    "    nB,mB = size(B)\n",
    "    mA == nB\n",
    "    n, m, p = nA, mA, mB\n",
    "    C = Array{Float64}(undef,n,p)\n",
    "\n",
    "    for i in 1:n\n",
    "        for j in 1:p\n",
    "            C[i,j] = A[i,:]' * B[:,j] #compute inner product of i'th row of A and j'th column of B\n",
    "        end\n",
    "    end\n",
    "    return C\n",
    "end\n",
    "\n",
    "Random.seed!(0)\n",
    "A = round.(10*rand(2,3))\n",
    "B = round.(10*rand(3,4))\n",
    "my_mult_inner_products(A,B)"
   ]
  },
  {
   "cell_type": "markdown",
   "metadata": {},
   "source": [
    "## 9a:"
   ]
  },
  {
   "cell_type": "code",
   "execution_count": null,
   "metadata": {},
   "outputs": [],
   "source": [
    "using LinearAlgebra\n",
    "using Random\n",
    "\n",
    "function my_mult_by_cols(A,B)\n",
    "    nA,mA = size(A)\n",
    "    nB,mB = size(B)\n",
    "    @assert mA == nB\n",
    "    n, m, p = nA, mA, mB\n",
    "    C = Array{Float64}(undef,n,p)\n",
    "\n",
    "    for j in 1:p #4 columns\n",
    "        # C[:,j]=Array{Float64}(undef,n,1)\n",
    "        for q in 1:m\n",
    "            C[:,j] +=A[:,q]*B[q,j]\n",
    "        end\n",
    "    end\n",
    "    return C\n",
    "end\n",
    "\n",
    "Random.seed!(0)\n",
    "A = round.(10*rand(2,3))\n",
    "B = round.(10*rand(3,4))\n",
    "my_mult_by_cols(A,B)"
   ]
  },
  {
   "cell_type": "markdown",
   "metadata": {},
   "source": [
    "## 9b:"
   ]
  },
  {
   "cell_type": "code",
   "execution_count": null,
   "metadata": {},
   "outputs": [],
   "source": [
    "using LinearAlgebra\n",
    "using Random\n",
    "\n",
    "function my_mult_by_rows(A,B)\n",
    "    nA,mA = size(A)\n",
    "    nB,mB = size(B)\n",
    "    @assert mA == nB\n",
    "    n, m, p = nA, mA, mB\n",
    "    C = Array{Float64}(undef,n,p)\n",
    "\n",
    "    for i in 1:n #2 rows\n",
    "        C[i,:]=Array{Float64}(undef,1,p)\n",
    "        for q in 1:m\n",
    "            C[i,:] +=B[q,:]*A[i,q]\n",
    "        end\n",
    "    end\n",
    "    return C\n",
    "end\n",
    "\n",
    "Random.seed!(0)\n",
    "A = round.(10*rand(2,3))\n",
    "B = round.(10*rand(3,4))\n",
    "my_mult_by_rows(A,B)"
   ]
  },
  {
   "cell_type": "markdown",
   "metadata": {},
   "source": [
    "## 9c:"
   ]
  },
  {
   "cell_type": "code",
   "execution_count": null,
   "metadata": {},
   "outputs": [],
   "source": [
    "using LinearAlgebra\n",
    "using Random\n",
    "\n",
    "function my_mult_sum_outer_products(A,B)\n",
    "    nA,mA = size(A)\n",
    "    nB,mB = size(B)\n",
    "    @assert mA == nB\n",
    "    n, m, p = nA, mA, mB\n",
    "    C = Array{Float64}(undef,n,p)\n",
    "\n",
    "    for q in 1:m #2 rows\n",
    "        C += A[:,q]*B[q,:]'\n",
    "    end\n",
    "    return C\n",
    "end\n",
    "\n",
    "Random.seed!(0)\n",
    "A = round.(10*rand(2,3))\n",
    "B = round.(10*rand(3,4))\n",
    "my_mult_sum_outer_products(A, B)"
   ]
  },
  {
   "cell_type": "markdown",
   "metadata": {},
   "source": [
    "## 9d:\n"
   ]
  },
  {
   "cell_type": "markdown",
   "metadata": {},
   "source": [
    "Both the original code, 9a and 9b use a nested loop. 9c only uses a single loop however it still has the same time complexity because the matrix multiplication has a hidden loop."
   ]
  },
  {
   "cell_type": "markdown",
   "metadata": {},
   "source": [
    "---\n",
    "\n",
    "*Use this area below as an experimental playground for the question. Feel free to leave some of the experimental code here with your submision. However, it will not be marked or reviewed. Make sure in your submission that if there is any experimental code here then running it does not interfere with running the actual solutions.*\n",
    "\n",
    "---"
   ]
  },
  {
   "cell_type": "code",
   "execution_count": null,
   "metadata": {},
   "outputs": [],
   "source": []
  },
  {
   "cell_type": "code",
   "execution_count": null,
   "metadata": {},
   "outputs": [],
   "source": []
  },
  {
   "cell_type": "code",
   "execution_count": null,
   "metadata": {},
   "outputs": [],
   "source": []
  }
 ],
 "metadata": {
  "kernelspec": {
   "display_name": "Julia 1.7.3",
   "language": "julia",
   "name": "julia-1.7"
  },
  "language_info": {
   "file_extension": ".jl",
   "mimetype": "application/julia",
   "name": "julia",
   "version": "1.7.3"
  }
 },
 "nbformat": 4,
 "nbformat_minor": 4
}
