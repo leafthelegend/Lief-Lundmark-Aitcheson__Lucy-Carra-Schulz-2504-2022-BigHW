{
 "cells": [
  {
   "cell_type": "markdown",
   "metadata": {},
   "source": [
    "### MATH2504 S2, 2022, BigHW Submission \n",
    "### Submission form II of IV "
   ]
  },
  {
   "cell_type": "markdown",
   "metadata": {},
   "source": [
    "Student #1 name: Lief\n",
    "\n",
    "Student #1 ID:\n",
    "\n",
    "Student #2 name:\n",
    "\n",
    "Student #2 ID:\n",
    "\n",
    "GitHub repo: "
   ]
  },
  {
   "cell_type": "markdown",
   "metadata": {},
   "source": [
    "---\n",
    "\n",
    "**Note: It is expected that this notebook be runnable in the sense that the marker can select \"Restart & Run All\" and all code cells of solutions will execute. This requires not to have name clashes between solutions.**\n",
    "\n",
    "---"
   ]
  },
  {
   "cell_type": "markdown",
   "metadata": {},
   "source": [
    "# Solution to [Question 5](https://courses.smp.uq.edu.au/MATH2504/2022/assessment_html/bighw.html#q5)"
   ]
  },
  {
   "cell_type": "code",
   "execution_count": 3,
   "metadata": {},
   "outputs": [
    {
     "name": "stdout",
     "output_type": "stream",
     "text": [
      "The first 5 perfect numbers are [1, 6, 28, 496, 8128]"
     ]
    }
   ],
   "source": [
    "function get_factors(n)\n",
    "    factors = [1]\n",
    "    for i in 2:floor(sqrt(n))\n",
    "        if n % i == 0\n",
    "            push!(factors, i, n / i)\n",
    "        end\n",
    "    end\n",
    "    return factors\n",
    "end\n",
    "\n",
    "perfects = [i for i in 1:10^6 if sum(get_factors(i))==i]\n",
    "\n",
    "print(\"The first $(length(perfects)) perfect numbers are $(perfects)\")"
   ]
  },
  {
   "cell_type": "markdown",
   "metadata": {},
   "source": [
    "# Solution to [Question 6](https://courses.smp.uq.edu.au/MATH2504/2022/assessment_html/bighw.html#q6)"
   ]
  },
  {
   "cell_type": "code",
   "execution_count": 5,
   "metadata": {},
   "outputs": [
    {
     "name": "stdout",
     "output_type": "stream",
     "text": [
      "  5.660514 seconds (786.03 k allocations: 33.744 MiB)\n"
     ]
    }
   ],
   "source": [
    "using Plots\n",
    "using StatsBase\n",
    "using Profile\n",
    "using ProfileView\n",
    "\n",
    "function sieve_of_Eratosthenes(n)\n",
    "    primebits = ones(Bool,n) #Will contain true if the index is prime (initially all assumed prime)\n",
    "    primebits[1] = false #The number 1 is not prime\n",
    "    p = 2 #Smallest prime\n",
    "    while p ≤ n\n",
    "        i = 2p\n",
    "        while i ≤ n  # \\le +[TAB]\n",
    "            primebits[i] = false\n",
    "            i += p\n",
    "        end\n",
    "        p += 1\n",
    "        while p ≤ n && !primebits[p]\n",
    "            p += 1\n",
    "        end\n",
    "    end\n",
    "    (1:n)[primebits]\n",
    "end\n",
    "\n",
    "function run(n::Int64)\n",
    "    even_range = 4:2:n\n",
    "    primes ::Vector{Int64} = sieve_of_Eratosthenes(n)[2:end]\n",
    "    #exclude 2, because odd sums are problematic for us\n",
    "    pairs = zeros(Int64,2*length(even_range))\n",
    "    pairs[1] = 1 #account for 2+2 = 4\n",
    "    for (i, p) in enumerate(primes)\n",
    "        for j in i:length(primes)\n",
    "            sum = p + primes[j]\n",
    "            pairs[sum÷2 - 1] += 1\n",
    "        end\n",
    "    end\n",
    "    checks = pairs[1:length(even_range)]\n",
    "    if 0 ∈ checks\n",
    "        println(\"Found a counter example for Goldbach\")\n",
    "    end\n",
    "    \n",
    "    x = sample(even_range,min(2*10^4,n÷3),replace = false)\n",
    "    y = checks[(-1 .+ x.÷2)]\n",
    "    scatter(x,y,legend=false,xlabel=\"N\",ylabel=\"Number of Goldbach pairs\")\n",
    "    png(\"scatter.png\")\n",
    "    return nothing\n",
    "end\n",
    "\n",
    "@time run(10^6)"
   ]
  },
  {
   "cell_type": "markdown",
   "metadata": {},
   "source": [
    "![](scatter.png)"
   ]
  },
  {
   "cell_type": "markdown",
   "metadata": {},
   "source": [
    "# Solution to [Question 7](https://courses.smp.uq.edu.au/MATH2504/2022/assessment_html/bighw.html#q7)"
   ]
  },
  {
   "cell_type": "markdown",
   "metadata": {},
   "source": [
    "## 7a:"
   ]
  },
  {
   "cell_type": "code",
   "execution_count": 6,
   "metadata": {},
   "outputs": [],
   "source": [
    "### Answer 7a here (in place of this comment)"
   ]
  },
  {
   "cell_type": "markdown",
   "metadata": {},
   "source": [
    "## 7b:"
   ]
  },
  {
   "cell_type": "code",
   "execution_count": 7,
   "metadata": {},
   "outputs": [],
   "source": [
    "### Answer 7b here (in place of this comment)"
   ]
  },
  {
   "cell_type": "markdown",
   "metadata": {},
   "source": [
    "## 7c:"
   ]
  },
  {
   "cell_type": "code",
   "execution_count": 8,
   "metadata": {},
   "outputs": [],
   "source": [
    "### Answer 7c here (in place of this comment)"
   ]
  },
  {
   "cell_type": "markdown",
   "metadata": {},
   "source": [
    "## 7d:"
   ]
  },
  {
   "cell_type": "code",
   "execution_count": 9,
   "metadata": {},
   "outputs": [],
   "source": [
    "### Make this a markdown cell and answer 7d here (in place of this comment)"
   ]
  },
  {
   "cell_type": "markdown",
   "metadata": {},
   "source": [
    "---\n",
    "\n",
    "*Use this area below as an experimental playground for the question. Feel free to leave some of the experimental code here with your submision. However, it will not be marked or reviewed. Make sure in your submission that if there is any experimental code here then running it does not interfere with running the actual solutions.*\n",
    "\n",
    "---"
   ]
  },
  {
   "cell_type": "code",
   "execution_count": 10,
   "metadata": {},
   "outputs": [],
   "source": []
  },
  {
   "cell_type": "code",
   "execution_count": 11,
   "metadata": {},
   "outputs": [],
   "source": []
  },
  {
   "cell_type": "code",
   "execution_count": 12,
   "metadata": {},
   "outputs": [],
   "source": []
  },
  {
   "cell_type": "markdown",
   "metadata": {},
   "source": [
    "# Solution to [Question 8](https://courses.smp.uq.edu.au/MATH2504/2022/assessment_html/bighw.html#q8)"
   ]
  },
  {
   "cell_type": "markdown",
   "metadata": {},
   "source": [
    "## 8a:"
   ]
  },
  {
   "cell_type": "markdown",
   "metadata": {},
   "source": [
    "The code below has been modified to sort by length of last name:"
   ]
  },
  {
   "cell_type": "code",
   "execution_count": 2,
   "metadata": {},
   "outputs": [
    {
     "name": "stdout",
     "output_type": "stream",
     "text": [
      "Sorted by first name:\n",
      "1\tAlistair Falconer\n",
      "2\tAmy Chan\n",
      "3\tAndy Ferris\n",
      "4\tAnna Foeglein\n",
      "5\tElaine Schenk\n",
      "6\tEmma Comino\n",
      "7\tIvana Carrizo-Molina\n",
      "8\tJesse Woods\n",
      "9\tMaithili Mehta\n",
      "10\tPaul Bellette\n",
      "11\tPaul Vrbik\n",
      "12\tSam Hambleton\n",
      "13\tThomas Graham\n",
      "14\tTina Moghaddam\n",
      "15\tTom Cranitch\n",
      "16\tYoni Nazarathy\n",
      "\n"
     ]
    },
    {
     "name": "stdout",
     "output_type": "stream",
     "text": [
      "Sorted by length of last name:\n",
      "1\tAmy Chan\n",
      "2\tMaithili Mehta\n",
      "3\tJesse Woods\n",
      "4\tPaul Vrbik\n",
      "5\tAndy Ferris\n",
      "6\tThomas Graham\n",
      "7\tElaine Schenk\n",
      "8\tEmma Comino\n",
      "9\tAnna Foeglein\n",
      "10\tPaul Bellette\n",
      "11\tTom Cranitch\n",
      "12\tAlistair Falconer\n",
      "13\tTina Moghaddam\n",
      "14\tYoni Nazarathy\n",
      "15\tSam Hambleton\n",
      "16\tIvana Carrizo-Molina\n"
     ]
    }
   ],
   "source": [
    "function array_table(array, heading)\n",
    "    println(heading,\":\")\n",
    "    for (i,a) in enumerate(array)\n",
    "        println(i,\"\\t\",a)\n",
    "    end\n",
    "end\n",
    "\n",
    "names_list = [   \"Amy Chan\",\n",
    "            \"Maithili Mehta\",\n",
    "            \"Anna Foeglein\",\n",
    "            \"Andy Ferris\",\n",
    "            \"Thomas Graham\",\n",
    "            \"Elaine Schenk\",\n",
    "            \"Jesse Woods\",\n",
    "            \"Tina Moghaddam\",\n",
    "            \"Paul Bellette\",\n",
    "            \"Paul Vrbik\",\n",
    "            \"Tom Cranitch\",\n",
    "            \"Yoni Nazarathy\",\n",
    "            \"Sam Hambleton\",\n",
    "            \"Alistair Falconer\",\n",
    "            \"Emma Comino\",\n",
    "            \"Ivana Carrizo-Molina\"]\n",
    "\n",
    "sorted_names = sort(names_list)\n",
    "array_table(sorted_names, \"Sorted by first name\")\n",
    "\n",
    "println()\n",
    "\n",
    "sorted_names = sort(names_list,by=(x)->length(split(x,\" \")[2]))\n",
    "array_table(sorted_names,\"Sorted by length of last name\")"
   ]
  },
  {
   "cell_type": "markdown",
   "metadata": {},
   "source": [
    "## 8b:"
   ]
  },
  {
   "cell_type": "code",
   "execution_count": 14,
   "metadata": {},
   "outputs": [
    {
     "name": "stdout",
     "output_type": "stream",
     "text": [
      "Bubble sorted by last name:\n",
      "1\tPaul Bellette\n",
      "2\tIvana Carrizo-Molina\n",
      "3\tAmy Chan\n",
      "4\tEmma Comino\n",
      "5\tTom Cranitch\n",
      "6\tAlistair Falconer\n",
      "7\tAndy Ferris\n",
      "8\tAnna Foeglein\n",
      "9\tThomas Graham\n",
      "10\tSam Hambleton\n",
      "11\tMaithili Mehta\n",
      "12\tTina Moghaddam\n",
      "13\tYoni Nazarathy\n",
      "14\tElaine Schenk\n",
      "15\tPaul Vrbik\n",
      "16\tJesse Woods\n"
     ]
    }
   ],
   "source": [
    "function sort_bubble(list; by=(x)->x)\n",
    "    for i in 1:length(list)-1\n",
    "        for j in 1:length(list)-i\n",
    "            if by(list[j]) > by(list[j+1])\n",
    "                tmp = list[j]\n",
    "                list[j] = list[j+1]\n",
    "                list[j+1] = tmp\n",
    "            end\n",
    "        end\n",
    "    end\n",
    "    return list\n",
    "end\n",
    "\n",
    "sorted_names = sort_bubble(names_list,by=(x)->reverse(split(x,\" \")))\n",
    "array_table(sorted_names,\"Bubble sorted by last name\")"
   ]
  },
  {
   "cell_type": "markdown",
   "metadata": {},
   "source": [
    "## 8c:"
   ]
  },
  {
   "cell_type": "code",
   "execution_count": 4,
   "metadata": {},
   "outputs": [
    {
     "name": "stdout",
     "output_type": "stream",
     "text": [
      "Quick sorted by last name:\n",
      "1\tPaul Bellette\n",
      "2\tIvana Carrizo-Molina\n",
      "3\tAmy Chan\n",
      "4\tEmma Comino\n",
      "5\tTom Cranitch\n",
      "6\tAlistair Falconer\n",
      "7\tAndy Ferris\n",
      "8\tAnna Foeglein\n",
      "9\tThomas Graham\n",
      "10\tSam Hambleton\n",
      "11\tMaithili Mehta\n",
      "12\tTina Moghaddam\n",
      "13\tYoni Nazarathy\n",
      "14\tElaine Schenk\n",
      "15\tPaul Vrbik\n",
      "16\tJesse Woods\n"
     ]
    }
   ],
   "source": [
    "#first implementation of quicksort, not in place\n",
    "function quick_sort(list;by=(x)->x)\n",
    "    if length(list)<=1\n",
    "        return list\n",
    "    end\n",
    "    pivot = by(list[1]) #The choice of pivot can be optimised but this is sufficient for our purposes\n",
    "    left = [x for x in list[2:end] if by(x)<pivot]\n",
    "    right = [x for x in list[2:end] if by(x)>=pivot]\n",
    "    return(cat(quick_sort(left,by=by),[list[1]],quick_sort(right,by=by),dims=1))\n",
    "end \n",
    "\n",
    "#in place implementation, far more memory efficient\n",
    "function quick_sort_in_place(list,lo=1,hi=length(list);by=(x)->x)\n",
    "    if lo>=hi || lo < 1\n",
    "        return list\n",
    "    end\n",
    "    pivot = by(list[lo])\n",
    "    i = lo+1\n",
    "    for j in lo+1:hi\n",
    "        if by(list[j])<pivot\n",
    "            list[i],list[j] = list[j],list[i]\n",
    "            i += 1\n",
    "        end\n",
    "    end\n",
    "    list[lo],list[i-1] = list[i-1],list[lo]\n",
    "    quick_sort_in_place(list,lo,i-2,by=by)\n",
    "    quick_sort_in_place(list,i,hi,by=by)\n",
    "    return list\n",
    "end\n",
    "\n",
    "sorted_names = quick_sort_in_place(names_list,by=(x)->reverse(split(x,\" \")))\n",
    "array_table(sorted_names,\"Quick sorted by last name\")"
   ]
  },
  {
   "cell_type": "markdown",
   "metadata": {},
   "source": [
    "## 8d:"
   ]
  },
  {
   "cell_type": "code",
   "execution_count": 6,
   "metadata": {},
   "outputs": [
    {
     "name": "stdout",
     "output_type": "stream",
     "text": [
      "system sort\n"
     ]
    },
    {
     "name": "stdout",
     "output_type": "stream",
     "text": [
      "  549.958 μs (2 allocations: 78.17 KiB)\n",
      "quick sort\n"
     ]
    },
    {
     "name": "stdout",
     "output_type": "stream",
     "text": [
      "  38.908 ms (0 allocations: 0 bytes)\n"
     ]
    }
   ],
   "source": [
    "using BenchmarkTools\n",
    "function test(n)\n",
    "    data = rand(Int,n)\n",
    "    println(\"system sort\")\n",
    "    @btime sort($data)\n",
    "    println(\"quick sort\")\n",
    "    @btime quick_sort_in_place($data)\n",
    "    return nothing\n",
    "end\n",
    "\n",
    "test(10^4) #larger values take a long time to run because btime takes multiple samples\n"
   ]
  },
  {
   "cell_type": "markdown",
   "metadata": {},
   "source": [
    "Bubble sort has $O(n^2)$ time complexity, which means that the running time tends to grow quadratically with the size of the input. We can test with some smaller values and fit a quadratic:\n",
    "\n",
    "![](bubble_sort.png)\n",
    "\n",
    "Extrapolating this trend gives an estimated running time of 8.5 minutes for $10^6$ items, and 1400 hours for $10^8$ items, which is unreasonable to run.\n",
    "\n",
    "We can however run trials for quick sort and the system sort. I obtained the following results:\n",
    "\n",
    "$10^6$ items:\n",
    "\n",
    " - System sort = 89.285 ms\n",
    " - Quick sort = 132.084 ms\n",
    "\n",
    "$10^7$ items:\n",
    "\n",
    " - System sort = 1.050 s\n",
    " - Quick sort = 2.107 s\n",
    "\n",
    "$10^8$ items:\n",
    "\n",
    " - System sort = 12.082 s\n",
    " - Quick sort = 33.362 s"
   ]
  },
  {
   "cell_type": "markdown",
   "metadata": {},
   "source": [
    "# Solution to [Question 9](https://courses.smp.uq.edu.au/MATH2504/2022/assessment_html/bighw.html#q9)"
   ]
  },
  {
   "cell_type": "markdown",
   "metadata": {},
   "source": [
    "## 9a:"
   ]
  },
  {
   "cell_type": "code",
   "execution_count": 17,
   "metadata": {},
   "outputs": [],
   "source": [
    "### Answer 9a here (in place of this comment)"
   ]
  },
  {
   "cell_type": "markdown",
   "metadata": {},
   "source": [
    "## 9b:"
   ]
  },
  {
   "cell_type": "code",
   "execution_count": 18,
   "metadata": {},
   "outputs": [],
   "source": [
    "### Answer 9b here (in place of this comment)"
   ]
  },
  {
   "cell_type": "markdown",
   "metadata": {},
   "source": [
    "## 9c:"
   ]
  },
  {
   "cell_type": "code",
   "execution_count": 19,
   "metadata": {},
   "outputs": [],
   "source": [
    "### Answer 9c here (in place of this comment)"
   ]
  },
  {
   "cell_type": "markdown",
   "metadata": {},
   "source": [
    "## 9d:\n"
   ]
  },
  {
   "cell_type": "code",
   "execution_count": 20,
   "metadata": {},
   "outputs": [],
   "source": [
    "### Make this a markdown cell and answer 9d here (in place of this comment)"
   ]
  },
  {
   "cell_type": "markdown",
   "metadata": {},
   "source": [
    "---\n",
    "\n",
    "*Use this area below as an experimental playground for the question. Feel free to leave some of the experimental code here with your submision. However, it will not be marked or reviewed. Make sure in your submission that if there is any experimental code here then running it does not interfere with running the actual solutions.*\n",
    "\n",
    "---"
   ]
  },
  {
   "cell_type": "code",
   "execution_count": 21,
   "metadata": {},
   "outputs": [],
   "source": []
  },
  {
   "cell_type": "code",
   "execution_count": 22,
   "metadata": {},
   "outputs": [],
   "source": []
  },
  {
   "cell_type": "code",
   "execution_count": 23,
   "metadata": {},
   "outputs": [],
   "source": []
  }
 ],
 "metadata": {
  "kernelspec": {
   "display_name": "Julia 1.7.3",
   "language": "julia",
   "name": "julia-1.7"
  },
  "language_info": {
   "file_extension": ".jl",
   "mimetype": "application/julia",
   "name": "julia",
   "version": "1.7.3"
  }
 },
 "nbformat": 4,
 "nbformat_minor": 4
}
